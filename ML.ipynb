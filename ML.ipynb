{
  "nbformat": 4,
  "nbformat_minor": 0,
  "metadata": {
    "colab": {
      "provenance": []
    },
    "kernelspec": {
      "name": "python3",
      "display_name": "Python 3"
    },
    "language_info": {
      "name": "python"
    }
  },
  "cells": [
    {
      "cell_type": "markdown",
      "source": [
        "##0.Опишем задачу\n",
        "\n",
        "Датасет содержит набор данных HR о сотрудниках компании, продвигающихся по службе. Для каждого сотрудника приведена следующая информация:\n",
        "\n",
        "\n",
        "*   id - его идентификатор\n",
        "*   department - отдел, в котором он работает\n",
        "\n",
        "*   region - регион, в котором он работает\n",
        "\n",
        "*   education - ступень образования\n",
        "*   gender - пол\n",
        "\n",
        "\n",
        "*   recruitment_channel - канал найма\n",
        "\n",
        "\n",
        "*   no_of_trainings - количество пройденных тренингов\n",
        "*   age - возраст\n",
        "\n",
        "\n",
        "*   previous_year rating - рейтинг за прошлый год\n",
        "\n",
        "*   length_of_service - стаж работы\n",
        "*   KPIs_met > 80 % - превышают ли ключевые показатели эффективности 80 % ?\n",
        "\n",
        "\n",
        "*   awards_won ? - выигрывал ли награды?\n",
        "\n",
        "\n",
        "*   avg_training_score - средний балл на тренингах\n",
        "*  is_promoted - был ли сотрудник повышен в должности?\n",
        "\n",
        "Задача: Предсказываем был ли сотрудник повышен в должности?\n",
        "\n",
        "\n",
        "\n",
        "\n",
        "\n",
        "\n",
        "\n",
        "\n",
        "\n",
        "\n"
      ],
      "metadata": {
        "id": "iaMYr1oVHOOI"
      }
    },
    {
      "cell_type": "markdown",
      "source": [
        "\n",
        "\n",
        "##1.  Считываем данные\n",
        "\n"
      ],
      "metadata": {
        "id": "alIQfsdEKwBg"
      }
    },
    {
      "cell_type": "code",
      "execution_count": 189,
      "metadata": {
        "id": "xBgKaPvEKTFS"
      },
      "outputs": [],
      "source": [
        "import sys\n",
        "import numpy as np              # Одномерные и многомерные массивы (array)\n",
        "import pandas as pd             # Таблицы и временные ряды (dataframe, series)\n",
        "import matplotlib.pyplot as plt # Научная графика\n",
        "import seaborn as sns           # Еще больше красивой графики для визуализации данных\n",
        "import sklearn                  # Алгоритмы машинного обучения"
      ]
    },
    {
      "cell_type": "code",
      "source": [
        "url = \"https://raw.githubusercontent.com/Dmitry145/ML/main/train.csv\"\n",
        "data = pd.read_csv(url)"
      ],
      "metadata": {
        "id": "x9eB-h5ofTb0"
      },
      "execution_count": 190,
      "outputs": []
    },
    {
      "cell_type": "code",
      "source": [
        "import io \n",
        "data = pd.read_csv(io.BytesIO(upload['train.csv']))"
      ],
      "metadata": {
        "id": "fJoSBgeuLVY_"
      },
      "execution_count": 191,
      "outputs": []
    },
    {
      "cell_type": "code",
      "source": [
        "data\n"
      ],
      "metadata": {
        "colab": {
          "base_uri": "https://localhost:8080/",
          "height": 424
        },
        "id": "BOqOjd3bLkTn",
        "outputId": "4ef3deac-543b-46d8-dfc5-e1fc59b4c82a"
      },
      "execution_count": 192,
      "outputs": [
        {
          "output_type": "execute_result",
          "data": {
            "text/plain": [
              "       employee_id         department     region         education gender  \\\n",
              "0            65438  Sales & Marketing   region_7  Master's & above      f   \n",
              "1            65141         Operations  region_22        Bachelor's      m   \n",
              "2             7513  Sales & Marketing  region_19        Bachelor's      m   \n",
              "3             2542  Sales & Marketing  region_23        Bachelor's      m   \n",
              "4            48945         Technology  region_26        Bachelor's      m   \n",
              "...            ...                ...        ...               ...    ...   \n",
              "54803         3030         Technology  region_14        Bachelor's      m   \n",
              "54804        74592         Operations  region_27  Master's & above      f   \n",
              "54805        13918          Analytics   region_1        Bachelor's      m   \n",
              "54806        13614  Sales & Marketing   region_9               NaN      m   \n",
              "54807        51526                 HR  region_22        Bachelor's      m   \n",
              "\n",
              "      recruitment_channel  no_of_trainings  age  previous_year_rating  \\\n",
              "0                sourcing                1   35                   5.0   \n",
              "1                   other                1   30                   5.0   \n",
              "2                sourcing                1   34                   3.0   \n",
              "3                   other                2   39                   1.0   \n",
              "4                   other                1   45                   3.0   \n",
              "...                   ...              ...  ...                   ...   \n",
              "54803            sourcing                1   48                   3.0   \n",
              "54804               other                1   37                   2.0   \n",
              "54805               other                1   27                   5.0   \n",
              "54806            sourcing                1   29                   1.0   \n",
              "54807               other                1   27                   1.0   \n",
              "\n",
              "       length_of_service  KPIs_met >80%  awards_won?  avg_training_score  \\\n",
              "0                      8              1            0                  49   \n",
              "1                      4              0            0                  60   \n",
              "2                      7              0            0                  50   \n",
              "3                     10              0            0                  50   \n",
              "4                      2              0            0                  73   \n",
              "...                  ...            ...          ...                 ...   \n",
              "54803                 17              0            0                  78   \n",
              "54804                  6              0            0                  56   \n",
              "54805                  3              1            0                  79   \n",
              "54806                  2              0            0                  45   \n",
              "54807                  5              0            0                  49   \n",
              "\n",
              "       is_promoted  \n",
              "0                0  \n",
              "1                0  \n",
              "2                0  \n",
              "3                0  \n",
              "4                0  \n",
              "...            ...  \n",
              "54803            0  \n",
              "54804            0  \n",
              "54805            0  \n",
              "54806            0  \n",
              "54807            0  \n",
              "\n",
              "[54808 rows x 14 columns]"
            ],
            "text/html": [
              "\n",
              "  <div id=\"df-ad5d7031-45c4-48db-bc84-2f9a982fdeb0\">\n",
              "    <div class=\"colab-df-container\">\n",
              "      <div>\n",
              "<style scoped>\n",
              "    .dataframe tbody tr th:only-of-type {\n",
              "        vertical-align: middle;\n",
              "    }\n",
              "\n",
              "    .dataframe tbody tr th {\n",
              "        vertical-align: top;\n",
              "    }\n",
              "\n",
              "    .dataframe thead th {\n",
              "        text-align: right;\n",
              "    }\n",
              "</style>\n",
              "<table border=\"1\" class=\"dataframe\">\n",
              "  <thead>\n",
              "    <tr style=\"text-align: right;\">\n",
              "      <th></th>\n",
              "      <th>employee_id</th>\n",
              "      <th>department</th>\n",
              "      <th>region</th>\n",
              "      <th>education</th>\n",
              "      <th>gender</th>\n",
              "      <th>recruitment_channel</th>\n",
              "      <th>no_of_trainings</th>\n",
              "      <th>age</th>\n",
              "      <th>previous_year_rating</th>\n",
              "      <th>length_of_service</th>\n",
              "      <th>KPIs_met &gt;80%</th>\n",
              "      <th>awards_won?</th>\n",
              "      <th>avg_training_score</th>\n",
              "      <th>is_promoted</th>\n",
              "    </tr>\n",
              "  </thead>\n",
              "  <tbody>\n",
              "    <tr>\n",
              "      <th>0</th>\n",
              "      <td>65438</td>\n",
              "      <td>Sales &amp; Marketing</td>\n",
              "      <td>region_7</td>\n",
              "      <td>Master's &amp; above</td>\n",
              "      <td>f</td>\n",
              "      <td>sourcing</td>\n",
              "      <td>1</td>\n",
              "      <td>35</td>\n",
              "      <td>5.0</td>\n",
              "      <td>8</td>\n",
              "      <td>1</td>\n",
              "      <td>0</td>\n",
              "      <td>49</td>\n",
              "      <td>0</td>\n",
              "    </tr>\n",
              "    <tr>\n",
              "      <th>1</th>\n",
              "      <td>65141</td>\n",
              "      <td>Operations</td>\n",
              "      <td>region_22</td>\n",
              "      <td>Bachelor's</td>\n",
              "      <td>m</td>\n",
              "      <td>other</td>\n",
              "      <td>1</td>\n",
              "      <td>30</td>\n",
              "      <td>5.0</td>\n",
              "      <td>4</td>\n",
              "      <td>0</td>\n",
              "      <td>0</td>\n",
              "      <td>60</td>\n",
              "      <td>0</td>\n",
              "    </tr>\n",
              "    <tr>\n",
              "      <th>2</th>\n",
              "      <td>7513</td>\n",
              "      <td>Sales &amp; Marketing</td>\n",
              "      <td>region_19</td>\n",
              "      <td>Bachelor's</td>\n",
              "      <td>m</td>\n",
              "      <td>sourcing</td>\n",
              "      <td>1</td>\n",
              "      <td>34</td>\n",
              "      <td>3.0</td>\n",
              "      <td>7</td>\n",
              "      <td>0</td>\n",
              "      <td>0</td>\n",
              "      <td>50</td>\n",
              "      <td>0</td>\n",
              "    </tr>\n",
              "    <tr>\n",
              "      <th>3</th>\n",
              "      <td>2542</td>\n",
              "      <td>Sales &amp; Marketing</td>\n",
              "      <td>region_23</td>\n",
              "      <td>Bachelor's</td>\n",
              "      <td>m</td>\n",
              "      <td>other</td>\n",
              "      <td>2</td>\n",
              "      <td>39</td>\n",
              "      <td>1.0</td>\n",
              "      <td>10</td>\n",
              "      <td>0</td>\n",
              "      <td>0</td>\n",
              "      <td>50</td>\n",
              "      <td>0</td>\n",
              "    </tr>\n",
              "    <tr>\n",
              "      <th>4</th>\n",
              "      <td>48945</td>\n",
              "      <td>Technology</td>\n",
              "      <td>region_26</td>\n",
              "      <td>Bachelor's</td>\n",
              "      <td>m</td>\n",
              "      <td>other</td>\n",
              "      <td>1</td>\n",
              "      <td>45</td>\n",
              "      <td>3.0</td>\n",
              "      <td>2</td>\n",
              "      <td>0</td>\n",
              "      <td>0</td>\n",
              "      <td>73</td>\n",
              "      <td>0</td>\n",
              "    </tr>\n",
              "    <tr>\n",
              "      <th>...</th>\n",
              "      <td>...</td>\n",
              "      <td>...</td>\n",
              "      <td>...</td>\n",
              "      <td>...</td>\n",
              "      <td>...</td>\n",
              "      <td>...</td>\n",
              "      <td>...</td>\n",
              "      <td>...</td>\n",
              "      <td>...</td>\n",
              "      <td>...</td>\n",
              "      <td>...</td>\n",
              "      <td>...</td>\n",
              "      <td>...</td>\n",
              "      <td>...</td>\n",
              "    </tr>\n",
              "    <tr>\n",
              "      <th>54803</th>\n",
              "      <td>3030</td>\n",
              "      <td>Technology</td>\n",
              "      <td>region_14</td>\n",
              "      <td>Bachelor's</td>\n",
              "      <td>m</td>\n",
              "      <td>sourcing</td>\n",
              "      <td>1</td>\n",
              "      <td>48</td>\n",
              "      <td>3.0</td>\n",
              "      <td>17</td>\n",
              "      <td>0</td>\n",
              "      <td>0</td>\n",
              "      <td>78</td>\n",
              "      <td>0</td>\n",
              "    </tr>\n",
              "    <tr>\n",
              "      <th>54804</th>\n",
              "      <td>74592</td>\n",
              "      <td>Operations</td>\n",
              "      <td>region_27</td>\n",
              "      <td>Master's &amp; above</td>\n",
              "      <td>f</td>\n",
              "      <td>other</td>\n",
              "      <td>1</td>\n",
              "      <td>37</td>\n",
              "      <td>2.0</td>\n",
              "      <td>6</td>\n",
              "      <td>0</td>\n",
              "      <td>0</td>\n",
              "      <td>56</td>\n",
              "      <td>0</td>\n",
              "    </tr>\n",
              "    <tr>\n",
              "      <th>54805</th>\n",
              "      <td>13918</td>\n",
              "      <td>Analytics</td>\n",
              "      <td>region_1</td>\n",
              "      <td>Bachelor's</td>\n",
              "      <td>m</td>\n",
              "      <td>other</td>\n",
              "      <td>1</td>\n",
              "      <td>27</td>\n",
              "      <td>5.0</td>\n",
              "      <td>3</td>\n",
              "      <td>1</td>\n",
              "      <td>0</td>\n",
              "      <td>79</td>\n",
              "      <td>0</td>\n",
              "    </tr>\n",
              "    <tr>\n",
              "      <th>54806</th>\n",
              "      <td>13614</td>\n",
              "      <td>Sales &amp; Marketing</td>\n",
              "      <td>region_9</td>\n",
              "      <td>NaN</td>\n",
              "      <td>m</td>\n",
              "      <td>sourcing</td>\n",
              "      <td>1</td>\n",
              "      <td>29</td>\n",
              "      <td>1.0</td>\n",
              "      <td>2</td>\n",
              "      <td>0</td>\n",
              "      <td>0</td>\n",
              "      <td>45</td>\n",
              "      <td>0</td>\n",
              "    </tr>\n",
              "    <tr>\n",
              "      <th>54807</th>\n",
              "      <td>51526</td>\n",
              "      <td>HR</td>\n",
              "      <td>region_22</td>\n",
              "      <td>Bachelor's</td>\n",
              "      <td>m</td>\n",
              "      <td>other</td>\n",
              "      <td>1</td>\n",
              "      <td>27</td>\n",
              "      <td>1.0</td>\n",
              "      <td>5</td>\n",
              "      <td>0</td>\n",
              "      <td>0</td>\n",
              "      <td>49</td>\n",
              "      <td>0</td>\n",
              "    </tr>\n",
              "  </tbody>\n",
              "</table>\n",
              "<p>54808 rows × 14 columns</p>\n",
              "</div>\n",
              "      <button class=\"colab-df-convert\" onclick=\"convertToInteractive('df-ad5d7031-45c4-48db-bc84-2f9a982fdeb0')\"\n",
              "              title=\"Convert this dataframe to an interactive table.\"\n",
              "              style=\"display:none;\">\n",
              "        \n",
              "  <svg xmlns=\"http://www.w3.org/2000/svg\" height=\"24px\"viewBox=\"0 0 24 24\"\n",
              "       width=\"24px\">\n",
              "    <path d=\"M0 0h24v24H0V0z\" fill=\"none\"/>\n",
              "    <path d=\"M18.56 5.44l.94 2.06.94-2.06 2.06-.94-2.06-.94-.94-2.06-.94 2.06-2.06.94zm-11 1L8.5 8.5l.94-2.06 2.06-.94-2.06-.94L8.5 2.5l-.94 2.06-2.06.94zm10 10l.94 2.06.94-2.06 2.06-.94-2.06-.94-.94-2.06-.94 2.06-2.06.94z\"/><path d=\"M17.41 7.96l-1.37-1.37c-.4-.4-.92-.59-1.43-.59-.52 0-1.04.2-1.43.59L10.3 9.45l-7.72 7.72c-.78.78-.78 2.05 0 2.83L4 21.41c.39.39.9.59 1.41.59.51 0 1.02-.2 1.41-.59l7.78-7.78 2.81-2.81c.8-.78.8-2.07 0-2.86zM5.41 20L4 18.59l7.72-7.72 1.47 1.35L5.41 20z\"/>\n",
              "  </svg>\n",
              "      </button>\n",
              "      \n",
              "  <style>\n",
              "    .colab-df-container {\n",
              "      display:flex;\n",
              "      flex-wrap:wrap;\n",
              "      gap: 12px;\n",
              "    }\n",
              "\n",
              "    .colab-df-convert {\n",
              "      background-color: #E8F0FE;\n",
              "      border: none;\n",
              "      border-radius: 50%;\n",
              "      cursor: pointer;\n",
              "      display: none;\n",
              "      fill: #1967D2;\n",
              "      height: 32px;\n",
              "      padding: 0 0 0 0;\n",
              "      width: 32px;\n",
              "    }\n",
              "\n",
              "    .colab-df-convert:hover {\n",
              "      background-color: #E2EBFA;\n",
              "      box-shadow: 0px 1px 2px rgba(60, 64, 67, 0.3), 0px 1px 3px 1px rgba(60, 64, 67, 0.15);\n",
              "      fill: #174EA6;\n",
              "    }\n",
              "\n",
              "    [theme=dark] .colab-df-convert {\n",
              "      background-color: #3B4455;\n",
              "      fill: #D2E3FC;\n",
              "    }\n",
              "\n",
              "    [theme=dark] .colab-df-convert:hover {\n",
              "      background-color: #434B5C;\n",
              "      box-shadow: 0px 1px 3px 1px rgba(0, 0, 0, 0.15);\n",
              "      filter: drop-shadow(0px 1px 2px rgba(0, 0, 0, 0.3));\n",
              "      fill: #FFFFFF;\n",
              "    }\n",
              "  </style>\n",
              "\n",
              "      <script>\n",
              "        const buttonEl =\n",
              "          document.querySelector('#df-ad5d7031-45c4-48db-bc84-2f9a982fdeb0 button.colab-df-convert');\n",
              "        buttonEl.style.display =\n",
              "          google.colab.kernel.accessAllowed ? 'block' : 'none';\n",
              "\n",
              "        async function convertToInteractive(key) {\n",
              "          const element = document.querySelector('#df-ad5d7031-45c4-48db-bc84-2f9a982fdeb0');\n",
              "          const dataTable =\n",
              "            await google.colab.kernel.invokeFunction('convertToInteractive',\n",
              "                                                     [key], {});\n",
              "          if (!dataTable) return;\n",
              "\n",
              "          const docLinkHtml = 'Like what you see? Visit the ' +\n",
              "            '<a target=\"_blank\" href=https://colab.research.google.com/notebooks/data_table.ipynb>data table notebook</a>'\n",
              "            + ' to learn more about interactive tables.';\n",
              "          element.innerHTML = '';\n",
              "          dataTable['output_type'] = 'display_data';\n",
              "          await google.colab.output.renderOutput(dataTable, element);\n",
              "          const docLink = document.createElement('div');\n",
              "          docLink.innerHTML = docLinkHtml;\n",
              "          element.appendChild(docLink);\n",
              "        }\n",
              "      </script>\n",
              "    </div>\n",
              "  </div>\n",
              "  "
            ]
          },
          "metadata": {},
          "execution_count": 192
        }
      ]
    },
    {
      "cell_type": "code",
      "source": [
        "data.info()"
      ],
      "metadata": {
        "colab": {
          "base_uri": "https://localhost:8080/"
        },
        "id": "nGG7qylZDNjI",
        "outputId": "444af9fd-6cb1-458f-adaa-485076b3e3a7"
      },
      "execution_count": 193,
      "outputs": [
        {
          "output_type": "stream",
          "name": "stdout",
          "text": [
            "<class 'pandas.core.frame.DataFrame'>\n",
            "RangeIndex: 54808 entries, 0 to 54807\n",
            "Data columns (total 14 columns):\n",
            " #   Column                Non-Null Count  Dtype  \n",
            "---  ------                --------------  -----  \n",
            " 0   employee_id           54808 non-null  int64  \n",
            " 1   department            54808 non-null  object \n",
            " 2   region                54808 non-null  object \n",
            " 3   education             52399 non-null  object \n",
            " 4   gender                54808 non-null  object \n",
            " 5   recruitment_channel   54808 non-null  object \n",
            " 6   no_of_trainings       54808 non-null  int64  \n",
            " 7   age                   54808 non-null  int64  \n",
            " 8   previous_year_rating  50684 non-null  float64\n",
            " 9   length_of_service     54808 non-null  int64  \n",
            " 10  KPIs_met >80%         54808 non-null  int64  \n",
            " 11  awards_won?           54808 non-null  int64  \n",
            " 12  avg_training_score    54808 non-null  int64  \n",
            " 13  is_promoted           54808 non-null  int64  \n",
            "dtypes: float64(1), int64(8), object(5)\n",
            "memory usage: 5.9+ MB\n"
          ]
        }
      ]
    },
    {
      "cell_type": "markdown",
      "source": [
        "##2.Визуализируем данные и вычисляем основные характеристики"
      ],
      "metadata": {
        "id": "ICbXdNAQ3qPl"
      }
    },
    {
      "cell_type": "markdown",
      "source": [
        "Характеристики числовых признаков"
      ],
      "metadata": {
        "id": "Oh9y72Sr4z0f"
      }
    },
    {
      "cell_type": "code",
      "source": [
        "data.describe()"
      ],
      "metadata": {
        "colab": {
          "base_uri": "https://localhost:8080/",
          "height": 300
        },
        "id": "ndcsJW4C4ox9",
        "outputId": "df4fe485-439b-431b-d308-df283f50faaa"
      },
      "execution_count": 194,
      "outputs": [
        {
          "output_type": "execute_result",
          "data": {
            "text/plain": [
              "        employee_id  no_of_trainings           age  previous_year_rating  \\\n",
              "count  54808.000000     54808.000000  54808.000000          50684.000000   \n",
              "mean   39195.830627         1.253011     34.803915              3.329256   \n",
              "std    22586.581449         0.609264      7.660169              1.259993   \n",
              "min        1.000000         1.000000     20.000000              1.000000   \n",
              "25%    19669.750000         1.000000     29.000000              3.000000   \n",
              "50%    39225.500000         1.000000     33.000000              3.000000   \n",
              "75%    58730.500000         1.000000     39.000000              4.000000   \n",
              "max    78298.000000        10.000000     60.000000              5.000000   \n",
              "\n",
              "       length_of_service  KPIs_met >80%   awards_won?  avg_training_score  \\\n",
              "count       54808.000000   54808.000000  54808.000000        54808.000000   \n",
              "mean            5.865512       0.351974      0.023172           63.386750   \n",
              "std             4.265094       0.477590      0.150450           13.371559   \n",
              "min             1.000000       0.000000      0.000000           39.000000   \n",
              "25%             3.000000       0.000000      0.000000           51.000000   \n",
              "50%             5.000000       0.000000      0.000000           60.000000   \n",
              "75%             7.000000       1.000000      0.000000           76.000000   \n",
              "max            37.000000       1.000000      1.000000           99.000000   \n",
              "\n",
              "        is_promoted  \n",
              "count  54808.000000  \n",
              "mean       0.085170  \n",
              "std        0.279137  \n",
              "min        0.000000  \n",
              "25%        0.000000  \n",
              "50%        0.000000  \n",
              "75%        0.000000  \n",
              "max        1.000000  "
            ],
            "text/html": [
              "\n",
              "  <div id=\"df-64a1b25b-6dbc-4d32-8dff-58a09496012e\">\n",
              "    <div class=\"colab-df-container\">\n",
              "      <div>\n",
              "<style scoped>\n",
              "    .dataframe tbody tr th:only-of-type {\n",
              "        vertical-align: middle;\n",
              "    }\n",
              "\n",
              "    .dataframe tbody tr th {\n",
              "        vertical-align: top;\n",
              "    }\n",
              "\n",
              "    .dataframe thead th {\n",
              "        text-align: right;\n",
              "    }\n",
              "</style>\n",
              "<table border=\"1\" class=\"dataframe\">\n",
              "  <thead>\n",
              "    <tr style=\"text-align: right;\">\n",
              "      <th></th>\n",
              "      <th>employee_id</th>\n",
              "      <th>no_of_trainings</th>\n",
              "      <th>age</th>\n",
              "      <th>previous_year_rating</th>\n",
              "      <th>length_of_service</th>\n",
              "      <th>KPIs_met &gt;80%</th>\n",
              "      <th>awards_won?</th>\n",
              "      <th>avg_training_score</th>\n",
              "      <th>is_promoted</th>\n",
              "    </tr>\n",
              "  </thead>\n",
              "  <tbody>\n",
              "    <tr>\n",
              "      <th>count</th>\n",
              "      <td>54808.000000</td>\n",
              "      <td>54808.000000</td>\n",
              "      <td>54808.000000</td>\n",
              "      <td>50684.000000</td>\n",
              "      <td>54808.000000</td>\n",
              "      <td>54808.000000</td>\n",
              "      <td>54808.000000</td>\n",
              "      <td>54808.000000</td>\n",
              "      <td>54808.000000</td>\n",
              "    </tr>\n",
              "    <tr>\n",
              "      <th>mean</th>\n",
              "      <td>39195.830627</td>\n",
              "      <td>1.253011</td>\n",
              "      <td>34.803915</td>\n",
              "      <td>3.329256</td>\n",
              "      <td>5.865512</td>\n",
              "      <td>0.351974</td>\n",
              "      <td>0.023172</td>\n",
              "      <td>63.386750</td>\n",
              "      <td>0.085170</td>\n",
              "    </tr>\n",
              "    <tr>\n",
              "      <th>std</th>\n",
              "      <td>22586.581449</td>\n",
              "      <td>0.609264</td>\n",
              "      <td>7.660169</td>\n",
              "      <td>1.259993</td>\n",
              "      <td>4.265094</td>\n",
              "      <td>0.477590</td>\n",
              "      <td>0.150450</td>\n",
              "      <td>13.371559</td>\n",
              "      <td>0.279137</td>\n",
              "    </tr>\n",
              "    <tr>\n",
              "      <th>min</th>\n",
              "      <td>1.000000</td>\n",
              "      <td>1.000000</td>\n",
              "      <td>20.000000</td>\n",
              "      <td>1.000000</td>\n",
              "      <td>1.000000</td>\n",
              "      <td>0.000000</td>\n",
              "      <td>0.000000</td>\n",
              "      <td>39.000000</td>\n",
              "      <td>0.000000</td>\n",
              "    </tr>\n",
              "    <tr>\n",
              "      <th>25%</th>\n",
              "      <td>19669.750000</td>\n",
              "      <td>1.000000</td>\n",
              "      <td>29.000000</td>\n",
              "      <td>3.000000</td>\n",
              "      <td>3.000000</td>\n",
              "      <td>0.000000</td>\n",
              "      <td>0.000000</td>\n",
              "      <td>51.000000</td>\n",
              "      <td>0.000000</td>\n",
              "    </tr>\n",
              "    <tr>\n",
              "      <th>50%</th>\n",
              "      <td>39225.500000</td>\n",
              "      <td>1.000000</td>\n",
              "      <td>33.000000</td>\n",
              "      <td>3.000000</td>\n",
              "      <td>5.000000</td>\n",
              "      <td>0.000000</td>\n",
              "      <td>0.000000</td>\n",
              "      <td>60.000000</td>\n",
              "      <td>0.000000</td>\n",
              "    </tr>\n",
              "    <tr>\n",
              "      <th>75%</th>\n",
              "      <td>58730.500000</td>\n",
              "      <td>1.000000</td>\n",
              "      <td>39.000000</td>\n",
              "      <td>4.000000</td>\n",
              "      <td>7.000000</td>\n",
              "      <td>1.000000</td>\n",
              "      <td>0.000000</td>\n",
              "      <td>76.000000</td>\n",
              "      <td>0.000000</td>\n",
              "    </tr>\n",
              "    <tr>\n",
              "      <th>max</th>\n",
              "      <td>78298.000000</td>\n",
              "      <td>10.000000</td>\n",
              "      <td>60.000000</td>\n",
              "      <td>5.000000</td>\n",
              "      <td>37.000000</td>\n",
              "      <td>1.000000</td>\n",
              "      <td>1.000000</td>\n",
              "      <td>99.000000</td>\n",
              "      <td>1.000000</td>\n",
              "    </tr>\n",
              "  </tbody>\n",
              "</table>\n",
              "</div>\n",
              "      <button class=\"colab-df-convert\" onclick=\"convertToInteractive('df-64a1b25b-6dbc-4d32-8dff-58a09496012e')\"\n",
              "              title=\"Convert this dataframe to an interactive table.\"\n",
              "              style=\"display:none;\">\n",
              "        \n",
              "  <svg xmlns=\"http://www.w3.org/2000/svg\" height=\"24px\"viewBox=\"0 0 24 24\"\n",
              "       width=\"24px\">\n",
              "    <path d=\"M0 0h24v24H0V0z\" fill=\"none\"/>\n",
              "    <path d=\"M18.56 5.44l.94 2.06.94-2.06 2.06-.94-2.06-.94-.94-2.06-.94 2.06-2.06.94zm-11 1L8.5 8.5l.94-2.06 2.06-.94-2.06-.94L8.5 2.5l-.94 2.06-2.06.94zm10 10l.94 2.06.94-2.06 2.06-.94-2.06-.94-.94-2.06-.94 2.06-2.06.94z\"/><path d=\"M17.41 7.96l-1.37-1.37c-.4-.4-.92-.59-1.43-.59-.52 0-1.04.2-1.43.59L10.3 9.45l-7.72 7.72c-.78.78-.78 2.05 0 2.83L4 21.41c.39.39.9.59 1.41.59.51 0 1.02-.2 1.41-.59l7.78-7.78 2.81-2.81c.8-.78.8-2.07 0-2.86zM5.41 20L4 18.59l7.72-7.72 1.47 1.35L5.41 20z\"/>\n",
              "  </svg>\n",
              "      </button>\n",
              "      \n",
              "  <style>\n",
              "    .colab-df-container {\n",
              "      display:flex;\n",
              "      flex-wrap:wrap;\n",
              "      gap: 12px;\n",
              "    }\n",
              "\n",
              "    .colab-df-convert {\n",
              "      background-color: #E8F0FE;\n",
              "      border: none;\n",
              "      border-radius: 50%;\n",
              "      cursor: pointer;\n",
              "      display: none;\n",
              "      fill: #1967D2;\n",
              "      height: 32px;\n",
              "      padding: 0 0 0 0;\n",
              "      width: 32px;\n",
              "    }\n",
              "\n",
              "    .colab-df-convert:hover {\n",
              "      background-color: #E2EBFA;\n",
              "      box-shadow: 0px 1px 2px rgba(60, 64, 67, 0.3), 0px 1px 3px 1px rgba(60, 64, 67, 0.15);\n",
              "      fill: #174EA6;\n",
              "    }\n",
              "\n",
              "    [theme=dark] .colab-df-convert {\n",
              "      background-color: #3B4455;\n",
              "      fill: #D2E3FC;\n",
              "    }\n",
              "\n",
              "    [theme=dark] .colab-df-convert:hover {\n",
              "      background-color: #434B5C;\n",
              "      box-shadow: 0px 1px 3px 1px rgba(0, 0, 0, 0.15);\n",
              "      filter: drop-shadow(0px 1px 2px rgba(0, 0, 0, 0.3));\n",
              "      fill: #FFFFFF;\n",
              "    }\n",
              "  </style>\n",
              "\n",
              "      <script>\n",
              "        const buttonEl =\n",
              "          document.querySelector('#df-64a1b25b-6dbc-4d32-8dff-58a09496012e button.colab-df-convert');\n",
              "        buttonEl.style.display =\n",
              "          google.colab.kernel.accessAllowed ? 'block' : 'none';\n",
              "\n",
              "        async function convertToInteractive(key) {\n",
              "          const element = document.querySelector('#df-64a1b25b-6dbc-4d32-8dff-58a09496012e');\n",
              "          const dataTable =\n",
              "            await google.colab.kernel.invokeFunction('convertToInteractive',\n",
              "                                                     [key], {});\n",
              "          if (!dataTable) return;\n",
              "\n",
              "          const docLinkHtml = 'Like what you see? Visit the ' +\n",
              "            '<a target=\"_blank\" href=https://colab.research.google.com/notebooks/data_table.ipynb>data table notebook</a>'\n",
              "            + ' to learn more about interactive tables.';\n",
              "          element.innerHTML = '';\n",
              "          dataTable['output_type'] = 'display_data';\n",
              "          await google.colab.output.renderOutput(dataTable, element);\n",
              "          const docLink = document.createElement('div');\n",
              "          docLink.innerHTML = docLinkHtml;\n",
              "          element.appendChild(docLink);\n",
              "        }\n",
              "      </script>\n",
              "    </div>\n",
              "  </div>\n",
              "  "
            ]
          },
          "metadata": {},
          "execution_count": 194
        }
      ]
    },
    {
      "cell_type": "markdown",
      "source": [
        "Характеристики категориальных признаков"
      ],
      "metadata": {
        "id": "qGFZ9xXO45Tz"
      }
    },
    {
      "cell_type": "code",
      "source": [
        "data.describe(include=['object'])"
      ],
      "metadata": {
        "colab": {
          "base_uri": "https://localhost:8080/",
          "height": 175
        },
        "id": "uwsMBzNi4vxM",
        "outputId": "e4375185-ada9-4cbd-fee0-15134405a509"
      },
      "execution_count": 195,
      "outputs": [
        {
          "output_type": "execute_result",
          "data": {
            "text/plain": [
              "               department    region   education gender recruitment_channel\n",
              "count               54808     54808       52399  54808               54808\n",
              "unique                  9        34           3      2                   3\n",
              "top     Sales & Marketing  region_2  Bachelor's      m               other\n",
              "freq                16840     12343       36669  38496               30446"
            ],
            "text/html": [
              "\n",
              "  <div id=\"df-11d5ede9-b8a0-404c-9937-102fe75648d2\">\n",
              "    <div class=\"colab-df-container\">\n",
              "      <div>\n",
              "<style scoped>\n",
              "    .dataframe tbody tr th:only-of-type {\n",
              "        vertical-align: middle;\n",
              "    }\n",
              "\n",
              "    .dataframe tbody tr th {\n",
              "        vertical-align: top;\n",
              "    }\n",
              "\n",
              "    .dataframe thead th {\n",
              "        text-align: right;\n",
              "    }\n",
              "</style>\n",
              "<table border=\"1\" class=\"dataframe\">\n",
              "  <thead>\n",
              "    <tr style=\"text-align: right;\">\n",
              "      <th></th>\n",
              "      <th>department</th>\n",
              "      <th>region</th>\n",
              "      <th>education</th>\n",
              "      <th>gender</th>\n",
              "      <th>recruitment_channel</th>\n",
              "    </tr>\n",
              "  </thead>\n",
              "  <tbody>\n",
              "    <tr>\n",
              "      <th>count</th>\n",
              "      <td>54808</td>\n",
              "      <td>54808</td>\n",
              "      <td>52399</td>\n",
              "      <td>54808</td>\n",
              "      <td>54808</td>\n",
              "    </tr>\n",
              "    <tr>\n",
              "      <th>unique</th>\n",
              "      <td>9</td>\n",
              "      <td>34</td>\n",
              "      <td>3</td>\n",
              "      <td>2</td>\n",
              "      <td>3</td>\n",
              "    </tr>\n",
              "    <tr>\n",
              "      <th>top</th>\n",
              "      <td>Sales &amp; Marketing</td>\n",
              "      <td>region_2</td>\n",
              "      <td>Bachelor's</td>\n",
              "      <td>m</td>\n",
              "      <td>other</td>\n",
              "    </tr>\n",
              "    <tr>\n",
              "      <th>freq</th>\n",
              "      <td>16840</td>\n",
              "      <td>12343</td>\n",
              "      <td>36669</td>\n",
              "      <td>38496</td>\n",
              "      <td>30446</td>\n",
              "    </tr>\n",
              "  </tbody>\n",
              "</table>\n",
              "</div>\n",
              "      <button class=\"colab-df-convert\" onclick=\"convertToInteractive('df-11d5ede9-b8a0-404c-9937-102fe75648d2')\"\n",
              "              title=\"Convert this dataframe to an interactive table.\"\n",
              "              style=\"display:none;\">\n",
              "        \n",
              "  <svg xmlns=\"http://www.w3.org/2000/svg\" height=\"24px\"viewBox=\"0 0 24 24\"\n",
              "       width=\"24px\">\n",
              "    <path d=\"M0 0h24v24H0V0z\" fill=\"none\"/>\n",
              "    <path d=\"M18.56 5.44l.94 2.06.94-2.06 2.06-.94-2.06-.94-.94-2.06-.94 2.06-2.06.94zm-11 1L8.5 8.5l.94-2.06 2.06-.94-2.06-.94L8.5 2.5l-.94 2.06-2.06.94zm10 10l.94 2.06.94-2.06 2.06-.94-2.06-.94-.94-2.06-.94 2.06-2.06.94z\"/><path d=\"M17.41 7.96l-1.37-1.37c-.4-.4-.92-.59-1.43-.59-.52 0-1.04.2-1.43.59L10.3 9.45l-7.72 7.72c-.78.78-.78 2.05 0 2.83L4 21.41c.39.39.9.59 1.41.59.51 0 1.02-.2 1.41-.59l7.78-7.78 2.81-2.81c.8-.78.8-2.07 0-2.86zM5.41 20L4 18.59l7.72-7.72 1.47 1.35L5.41 20z\"/>\n",
              "  </svg>\n",
              "      </button>\n",
              "      \n",
              "  <style>\n",
              "    .colab-df-container {\n",
              "      display:flex;\n",
              "      flex-wrap:wrap;\n",
              "      gap: 12px;\n",
              "    }\n",
              "\n",
              "    .colab-df-convert {\n",
              "      background-color: #E8F0FE;\n",
              "      border: none;\n",
              "      border-radius: 50%;\n",
              "      cursor: pointer;\n",
              "      display: none;\n",
              "      fill: #1967D2;\n",
              "      height: 32px;\n",
              "      padding: 0 0 0 0;\n",
              "      width: 32px;\n",
              "    }\n",
              "\n",
              "    .colab-df-convert:hover {\n",
              "      background-color: #E2EBFA;\n",
              "      box-shadow: 0px 1px 2px rgba(60, 64, 67, 0.3), 0px 1px 3px 1px rgba(60, 64, 67, 0.15);\n",
              "      fill: #174EA6;\n",
              "    }\n",
              "\n",
              "    [theme=dark] .colab-df-convert {\n",
              "      background-color: #3B4455;\n",
              "      fill: #D2E3FC;\n",
              "    }\n",
              "\n",
              "    [theme=dark] .colab-df-convert:hover {\n",
              "      background-color: #434B5C;\n",
              "      box-shadow: 0px 1px 3px 1px rgba(0, 0, 0, 0.15);\n",
              "      filter: drop-shadow(0px 1px 2px rgba(0, 0, 0, 0.3));\n",
              "      fill: #FFFFFF;\n",
              "    }\n",
              "  </style>\n",
              "\n",
              "      <script>\n",
              "        const buttonEl =\n",
              "          document.querySelector('#df-11d5ede9-b8a0-404c-9937-102fe75648d2 button.colab-df-convert');\n",
              "        buttonEl.style.display =\n",
              "          google.colab.kernel.accessAllowed ? 'block' : 'none';\n",
              "\n",
              "        async function convertToInteractive(key) {\n",
              "          const element = document.querySelector('#df-11d5ede9-b8a0-404c-9937-102fe75648d2');\n",
              "          const dataTable =\n",
              "            await google.colab.kernel.invokeFunction('convertToInteractive',\n",
              "                                                     [key], {});\n",
              "          if (!dataTable) return;\n",
              "\n",
              "          const docLinkHtml = 'Like what you see? Visit the ' +\n",
              "            '<a target=\"_blank\" href=https://colab.research.google.com/notebooks/data_table.ipynb>data table notebook</a>'\n",
              "            + ' to learn more about interactive tables.';\n",
              "          element.innerHTML = '';\n",
              "          dataTable['output_type'] = 'display_data';\n",
              "          await google.colab.output.renderOutput(dataTable, element);\n",
              "          const docLink = document.createElement('div');\n",
              "          docLink.innerHTML = docLinkHtml;\n",
              "          element.appendChild(docLink);\n",
              "        }\n",
              "      </script>\n",
              "    </div>\n",
              "  </div>\n",
              "  "
            ]
          },
          "metadata": {},
          "execution_count": 195
        }
      ]
    },
    {
      "cell_type": "markdown",
      "source": [
        "Визуализируем некоторые данные:\n",
        "\n",
        "1) Возраст работников:"
      ],
      "metadata": {
        "id": "lMlDKAumnlaA"
      }
    },
    {
      "cell_type": "code",
      "source": [
        "sns.set(rc={'figure.figsize':(11.7,8.27)})\n",
        "sns.countplot(x='age', data=data, palette =\"mako\")\n",
        "\n",
        "pass"
      ],
      "metadata": {
        "colab": {
          "base_uri": "https://localhost:8080/",
          "height": 517
        },
        "id": "ZIZE_Kuonovm",
        "outputId": "9d9c2cf7-33af-4553-b6ac-42138571de26"
      },
      "execution_count": 196,
      "outputs": [
        {
          "output_type": "display_data",
          "data": {
            "text/plain": [
              "<Figure size 842.4x595.44 with 1 Axes>"
            ],
            "image/png": "[encoded data removed]"
          },
          "metadata": {}
        }
      ]
    },
    {
      "cell_type": "markdown",
      "source": [
        "2) Стаж работы:"
      ],
      "metadata": {
        "id": "EMk-1GSTryX5"
      }
    },
    {
      "cell_type": "code",
      "source": [
        "data['length_of_service'].plot(kind='box')\n",
        "pass"
      ],
      "metadata": {
        "colab": {
          "base_uri": "https://localhost:8080/",
          "height": 501
        },
        "id": "B47wYjWarbxY",
        "outputId": "bd657d0d-7e74-4929-cf06-3926f5e14434"
      },
      "execution_count": 197,
      "outputs": [
        {
          "output_type": "display_data",
          "data": {
            "text/plain": [
              "<Figure size 842.4x595.44 with 1 Axes>"
            ],
            "image/png": "[encoded data removed]"
          },
          "metadata": {}
        }
      ]
    },
    {
      "cell_type": "markdown",
      "source": [
        "3) Пол работников:"
      ],
      "metadata": {
        "id": "lmlJV3hgos7q"
      }
    },
    {
      "cell_type": "code",
      "source": [
        "plt.pie(data['gender'].value_counts(), autopct='%1.1f%%', pctdistance = 0.6, labels = ['Male', 'Female'], colors = [(117/255,93/255,154/255), (255/255,160/255,0/255)])\n",
        "pass"
      ],
      "metadata": {
        "colab": {
          "base_uri": "https://localhost:8080/",
          "height": 480
        },
        "id": "xFQLCQczojKI",
        "outputId": "72700982-a308-48df-9452-5a756769a158"
      },
      "execution_count": 198,
      "outputs": [
        {
          "output_type": "display_data",
          "data": {
            "text/plain": [
              "<Figure size 842.4x595.44 with 1 Axes>"
            ],
            "image/png": "[encoded data removed]"
          },
          "metadata": {}
        }
      ]
    },
    {
      "cell_type": "markdown",
      "source": [
        "Матрица корреляции"
      ],
      "metadata": {
        "id": "GyjSlfYq5fLI"
      }
    },
    {
      "cell_type": "code",
      "source": [
        "data.corr()\n"
      ],
      "metadata": {
        "colab": {
          "base_uri": "https://localhost:8080/",
          "height": 332
        },
        "id": "b92IV3k45eoY",
        "outputId": "db606bbe-95f7-4507-9058-a8f68b63901d"
      },
      "execution_count": 199,
      "outputs": [
        {
          "output_type": "execute_result",
          "data": {
            "text/plain": [
              "                      employee_id  no_of_trainings       age  \\\n",
              "employee_id              1.000000        -0.005121  0.000437   \n",
              "no_of_trainings         -0.005121         1.000000 -0.081278   \n",
              "age                      0.000437        -0.081278  1.000000   \n",
              "previous_year_rating     0.004533        -0.063126  0.006008   \n",
              "length_of_service        0.001274        -0.057275  0.657111   \n",
              "KPIs_met >80%           -0.002501        -0.045576 -0.025592   \n",
              "awards_won?              0.008420        -0.007628 -0.008169   \n",
              "avg_training_score      -0.000586         0.042517 -0.048380   \n",
              "is_promoted              0.001206        -0.024896 -0.017166   \n",
              "\n",
              "                      previous_year_rating  length_of_service  KPIs_met >80%  \\\n",
              "employee_id                       0.004533           0.001274      -0.002501   \n",
              "no_of_trainings                  -0.063126          -0.057275      -0.045576   \n",
              "age                               0.006008           0.657111      -0.025592   \n",
              "previous_year_rating              1.000000           0.000253       0.351578   \n",
              "length_of_service                 0.000253           1.000000      -0.077693   \n",
              "KPIs_met >80%                     0.351578          -0.077693       1.000000   \n",
              "awards_won?                       0.027738          -0.039927       0.097000   \n",
              "avg_training_score                0.075139          -0.038122       0.078391   \n",
              "is_promoted                       0.159320          -0.010670       0.221582   \n",
              "\n",
              "                      awards_won?  avg_training_score  is_promoted  \n",
              "employee_id              0.008420           -0.000586     0.001206  \n",
              "no_of_trainings         -0.007628            0.042517    -0.024896  \n",
              "age                     -0.008169           -0.048380    -0.017166  \n",
              "previous_year_rating     0.027738            0.075139     0.159320  \n",
              "length_of_service       -0.039927           -0.038122    -0.010670  \n",
              "KPIs_met >80%            0.097000            0.078391     0.221582  \n",
              "awards_won?              1.000000            0.072138     0.195871  \n",
              "avg_training_score       0.072138            1.000000     0.181147  \n",
              "is_promoted              0.195871            0.181147     1.000000  "
            ],
            "text/html": [
              "\n",
              "  <div id=\"df-a0e3d546-4092-4d40-a457-1ef2f060a95b\">\n",
              "    <div class=\"colab-df-container\">\n",
              "      <div>\n",
              "<style scoped>\n",
              "    .dataframe tbody tr th:only-of-type {\n",
              "        vertical-align: middle;\n",
              "    }\n",
              "\n",
              "    .dataframe tbody tr th {\n",
              "        vertical-align: top;\n",
              "    }\n",
              "\n",
              "    .dataframe thead th {\n",
              "        text-align: right;\n",
              "    }\n",
              "</style>\n",
              "<table border=\"1\" class=\"dataframe\">\n",
              "  <thead>\n",
              "    <tr style=\"text-align: right;\">\n",
              "      <th></th>\n",
              "      <th>employee_id</th>\n",
              "      <th>no_of_trainings</th>\n",
              "      <th>age</th>\n",
              "      <th>previous_year_rating</th>\n",
              "      <th>length_of_service</th>\n",
              "      <th>KPIs_met &gt;80%</th>\n",
              "      <th>awards_won?</th>\n",
              "      <th>avg_training_score</th>\n",
              "      <th>is_promoted</th>\n",
              "    </tr>\n",
              "  </thead>\n",
              "  <tbody>\n",
              "    <tr>\n",
              "      <th>employee_id</th>\n",
              "      <td>1.000000</td>\n",
              "      <td>-0.005121</td>\n",
              "      <td>0.000437</td>\n",
              "      <td>0.004533</td>\n",
              "      <td>0.001274</td>\n",
              "      <td>-0.002501</td>\n",
              "      <td>0.008420</td>\n",
              "      <td>-0.000586</td>\n",
              "      <td>0.001206</td>\n",
              "    </tr>\n",
              "    <tr>\n",
              "      <th>no_of_trainings</th>\n",
              "      <td>-0.005121</td>\n",
              "      <td>1.000000</td>\n",
              "      <td>-0.081278</td>\n",
              "      <td>-0.063126</td>\n",
              "      <td>-0.057275</td>\n",
              "      <td>-0.045576</td>\n",
              "      <td>-0.007628</td>\n",
              "      <td>0.042517</td>\n",
              "      <td>-0.024896</td>\n",
              "    </tr>\n",
              "    <tr>\n",
              "      <th>age</th>\n",
              "      <td>0.000437</td>\n",
              "      <td>-0.081278</td>\n",
              "      <td>1.000000</td>\n",
              "      <td>0.006008</td>\n",
              "      <td>0.657111</td>\n",
              "      <td>-0.025592</td>\n",
              "      <td>-0.008169</td>\n",
              "      <td>-0.048380</td>\n",
              "      <td>-0.017166</td>\n",
              "    </tr>\n",
              "    <tr>\n",
              "      <th>previous_year_rating</th>\n",
              "      <td>0.004533</td>\n",
              "      <td>-0.063126</td>\n",
              "      <td>0.006008</td>\n",
              "      <td>1.000000</td>\n",
              "      <td>0.000253</td>\n",
              "      <td>0.351578</td>\n",
              "      <td>0.027738</td>\n",
              "      <td>0.075139</td>\n",
              "      <td>0.159320</td>\n",
              "    </tr>\n",
              "    <tr>\n",
              "      <th>length_of_service</th>\n",
              "      <td>0.001274</td>\n",
              "      <td>-0.057275</td>\n",
              "      <td>0.657111</td>\n",
              "      <td>0.000253</td>\n",
              "      <td>1.000000</td>\n",
              "      <td>-0.077693</td>\n",
              "      <td>-0.039927</td>\n",
              "      <td>-0.038122</td>\n",
              "      <td>-0.010670</td>\n",
              "    </tr>\n",
              "    <tr>\n",
              "      <th>KPIs_met &gt;80%</th>\n",
              "      <td>-0.002501</td>\n",
              "      <td>-0.045576</td>\n",
              "      <td>-0.025592</td>\n",
              "      <td>0.351578</td>\n",
              "      <td>-0.077693</td>\n",
              "      <td>1.000000</td>\n",
              "      <td>0.097000</td>\n",
              "      <td>0.078391</td>\n",
              "      <td>0.221582</td>\n",
              "    </tr>\n",
              "    <tr>\n",
              "      <th>awards_won?</th>\n",
              "      <td>0.008420</td>\n",
              "      <td>-0.007628</td>\n",
              "      <td>-0.008169</td>\n",
              "      <td>0.027738</td>\n",
              "      <td>-0.039927</td>\n",
              "      <td>0.097000</td>\n",
              "      <td>1.000000</td>\n",
              "      <td>0.072138</td>\n",
              "      <td>0.195871</td>\n",
              "    </tr>\n",
              "    <tr>\n",
              "      <th>avg_training_score</th>\n",
              "      <td>-0.000586</td>\n",
              "      <td>0.042517</td>\n",
              "      <td>-0.048380</td>\n",
              "      <td>0.075139</td>\n",
              "      <td>-0.038122</td>\n",
              "      <td>0.078391</td>\n",
              "      <td>0.072138</td>\n",
              "      <td>1.000000</td>\n",
              "      <td>0.181147</td>\n",
              "    </tr>\n",
              "    <tr>\n",
              "      <th>is_promoted</th>\n",
              "      <td>0.001206</td>\n",
              "      <td>-0.024896</td>\n",
              "      <td>-0.017166</td>\n",
              "      <td>0.159320</td>\n",
              "      <td>-0.010670</td>\n",
              "      <td>0.221582</td>\n",
              "      <td>0.195871</td>\n",
              "      <td>0.181147</td>\n",
              "      <td>1.000000</td>\n",
              "    </tr>\n",
              "  </tbody>\n",
              "</table>\n",
              "</div>\n",
              "      <button class=\"colab-df-convert\" onclick=\"convertToInteractive('df-a0e3d546-4092-4d40-a457-1ef2f060a95b')\"\n",
              "              title=\"Convert this dataframe to an interactive table.\"\n",
              "              style=\"display:none;\">\n",
              "        \n",
              "  <svg xmlns=\"http://www.w3.org/2000/svg\" height=\"24px\"viewBox=\"0 0 24 24\"\n",
              "       width=\"24px\">\n",
              "    <path d=\"M0 0h24v24H0V0z\" fill=\"none\"/>\n",
              "    <path d=\"M18.56 5.44l.94 2.06.94-2.06 2.06-.94-2.06-.94-.94-2.06-.94 2.06-2.06.94zm-11 1L8.5 8.5l.94-2.06 2.06-.94-2.06-.94L8.5 2.5l-.94 2.06-2.06.94zm10 10l.94 2.06.94-2.06 2.06-.94-2.06-.94-.94-2.06-.94 2.06-2.06.94z\"/><path d=\"M17.41 7.96l-1.37-1.37c-.4-.4-.92-.59-1.43-.59-.52 0-1.04.2-1.43.59L10.3 9.45l-7.72 7.72c-.78.78-.78 2.05 0 2.83L4 21.41c.39.39.9.59 1.41.59.51 0 1.02-.2 1.41-.59l7.78-7.78 2.81-2.81c.8-.78.8-2.07 0-2.86zM5.41 20L4 18.59l7.72-7.72 1.47 1.35L5.41 20z\"/>\n",
              "  </svg>\n",
              "      </button>\n",
              "      \n",
              "  <style>\n",
              "    .colab-df-container {\n",
              "      display:flex;\n",
              "      flex-wrap:wrap;\n",
              "      gap: 12px;\n",
              "    }\n",
              "\n",
              "    .colab-df-convert {\n",
              "      background-color: #E8F0FE;\n",
              "      border: none;\n",
              "      border-radius: 50%;\n",
              "      cursor: pointer;\n",
              "      display: none;\n",
              "      fill: #1967D2;\n",
              "      height: 32px;\n",
              "      padding: 0 0 0 0;\n",
              "      width: 32px;\n",
              "    }\n",
              "\n",
              "    .colab-df-convert:hover {\n",
              "      background-color: #E2EBFA;\n",
              "      box-shadow: 0px 1px 2px rgba(60, 64, 67, 0.3), 0px 1px 3px 1px rgba(60, 64, 67, 0.15);\n",
              "      fill: #174EA6;\n",
              "    }\n",
              "\n",
              "    [theme=dark] .colab-df-convert {\n",
              "      background-color: #3B4455;\n",
              "      fill: #D2E3FC;\n",
              "    }\n",
              "\n",
              "    [theme=dark] .colab-df-convert:hover {\n",
              "      background-color: #434B5C;\n",
              "      box-shadow: 0px 1px 3px 1px rgba(0, 0, 0, 0.15);\n",
              "      filter: drop-shadow(0px 1px 2px rgba(0, 0, 0, 0.3));\n",
              "      fill: #FFFFFF;\n",
              "    }\n",
              "  </style>\n",
              "\n",
              "      <script>\n",
              "        const buttonEl =\n",
              "          document.querySelector('#df-a0e3d546-4092-4d40-a457-1ef2f060a95b button.colab-df-convert');\n",
              "        buttonEl.style.display =\n",
              "          google.colab.kernel.accessAllowed ? 'block' : 'none';\n",
              "\n",
              "        async function convertToInteractive(key) {\n",
              "          const element = document.querySelector('#df-a0e3d546-4092-4d40-a457-1ef2f060a95b');\n",
              "          const dataTable =\n",
              "            await google.colab.kernel.invokeFunction('convertToInteractive',\n",
              "                                                     [key], {});\n",
              "          if (!dataTable) return;\n",
              "\n",
              "          const docLinkHtml = 'Like what you see? Visit the ' +\n",
              "            '<a target=\"_blank\" href=https://colab.research.google.com/notebooks/data_table.ipynb>data table notebook</a>'\n",
              "            + ' to learn more about interactive tables.';\n",
              "          element.innerHTML = '';\n",
              "          dataTable['output_type'] = 'display_data';\n",
              "          await google.colab.output.renderOutput(dataTable, element);\n",
              "          const docLink = document.createElement('div');\n",
              "          docLink.innerHTML = docLinkHtml;\n",
              "          element.appendChild(docLink);\n",
              "        }\n",
              "      </script>\n",
              "    </div>\n",
              "  </div>\n",
              "  "
            ]
          },
          "metadata": {},
          "execution_count": 199
        }
      ]
    },
    {
      "cell_type": "code",
      "source": [
        "corr_mat = data.corr()\n",
        "sns.heatmap(corr_mat, square=True, fmt='.2f', vmin=-1, vmax=1, cmap='coolwarm')"
      ],
      "metadata": {
        "colab": {
          "base_uri": "https://localhost:8080/",
          "height": 627
        },
        "id": "ucruJiSb5nh4",
        "outputId": "0e8cbe31-2c84-40d2-dc28-1169cc4574ab"
      },
      "execution_count": 200,
      "outputs": [
        {
          "output_type": "execute_result",
          "data": {
            "text/plain": [
              "<matplotlib.axes._subplots.AxesSubplot at 0x7f88843d72d0>"
            ]
          },
          "metadata": {},
          "execution_count": 200
        },
        {
          "output_type": "display_data",
          "data": {
            "text/plain": [
              "<Figure size 842.4x595.44 with 2 Axes>"
            ],
            "image/png": "[encoded data removed]"
          },
          "metadata": {}
        }
      ]
    },
    {
      "cell_type": "markdown",
      "source": [
        "Видим, что большинство признаков слабо коррелирует, за исключением, быть может lengt_of_service и age"
      ],
      "metadata": {
        "id": "59lAcgXjkG5z"
      }
    },
    {
      "cell_type": "markdown",
      "source": [
        "##3.Обработаем пропущенные значения"
      ],
      "metadata": {
        "id": "qLRTDrM07fFo"
      }
    },
    {
      "cell_type": "markdown",
      "source": [
        "Определим их количество и то, в каких стобцах они находятся"
      ],
      "metadata": {
        "id": "vRCOdHEC7ybH"
      }
    },
    {
      "cell_type": "code",
      "source": [
        "data.isnull().sum()"
      ],
      "metadata": {
        "colab": {
          "base_uri": "https://localhost:8080/"
        },
        "id": "dA8r3yWT7mrz",
        "outputId": "ecece04d-d011-4982-deff-f82b9e657e9d"
      },
      "execution_count": 201,
      "outputs": [
        {
          "output_type": "execute_result",
          "data": {
            "text/plain": [
              "employee_id                0\n",
              "department                 0\n",
              "region                     0\n",
              "education               2409\n",
              "gender                     0\n",
              "recruitment_channel        0\n",
              "no_of_trainings            0\n",
              "age                        0\n",
              "previous_year_rating    4124\n",
              "length_of_service          0\n",
              "KPIs_met >80%              0\n",
              "awards_won?                0\n",
              "avg_training_score         0\n",
              "is_promoted                0\n",
              "dtype: int64"
            ]
          },
          "metadata": {},
          "execution_count": 201
        }
      ]
    },
    {
      "cell_type": "markdown",
      "source": [
        "Заменим пропущенные значения для числового признака медианой:"
      ],
      "metadata": {
        "id": "cEDn1oTK8ABj"
      }
    },
    {
      "cell_type": "code",
      "source": [
        "feat = ['previous_year_rating']\n",
        "data[feat].median(axis = 0)"
      ],
      "metadata": {
        "colab": {
          "base_uri": "https://localhost:8080/"
        },
        "id": "QC-iCxiD74ag",
        "outputId": "a05136ed-76ed-4bce-8e28-c27457b29289"
      },
      "execution_count": 202,
      "outputs": [
        {
          "output_type": "execute_result",
          "data": {
            "text/plain": [
              "previous_year_rating    3.0\n",
              "dtype: float64"
            ]
          },
          "metadata": {},
          "execution_count": 202
        }
      ]
    },
    {
      "cell_type": "code",
      "source": [
        "data[feat] = data[feat].fillna(data[feat].median(axis = 0), axis=0)"
      ],
      "metadata": {
        "id": "KgBon4Tv9s9i"
      },
      "execution_count": 203,
      "outputs": []
    },
    {
      "cell_type": "code",
      "source": [
        "data.isnull().sum()"
      ],
      "metadata": {
        "colab": {
          "base_uri": "https://localhost:8080/"
        },
        "id": "D369OPLa9xmp",
        "outputId": "94e503e0-8955-4b74-f2d0-4f5b53578f57"
      },
      "execution_count": 204,
      "outputs": [
        {
          "output_type": "execute_result",
          "data": {
            "text/plain": [
              "employee_id                0\n",
              "department                 0\n",
              "region                     0\n",
              "education               2409\n",
              "gender                     0\n",
              "recruitment_channel        0\n",
              "no_of_trainings            0\n",
              "age                        0\n",
              "previous_year_rating       0\n",
              "length_of_service          0\n",
              "KPIs_met >80%              0\n",
              "awards_won?                0\n",
              "avg_training_score         0\n",
              "is_promoted                0\n",
              "dtype: int64"
            ]
          },
          "metadata": {},
          "execution_count": 204
        }
      ]
    },
    {
      "cell_type": "markdown",
      "source": [
        "Заменим пропущенные значения для категориального признака модой:"
      ],
      "metadata": {
        "id": "qgjNaZKd-Ppk"
      }
    },
    {
      "cell_type": "code",
      "source": [
        "data['education'].fillna(data['education'].mode().iloc[0], inplace=True)"
      ],
      "metadata": {
        "id": "h0RzMMKX-eW3"
      },
      "execution_count": 205,
      "outputs": []
    },
    {
      "cell_type": "code",
      "source": [
        "data.isnull().sum()"
      ],
      "metadata": {
        "colab": {
          "base_uri": "https://localhost:8080/"
        },
        "outputId": "3355073d-65cf-41d8-897c-234ce6a6f61d",
        "id": "DBZP1yaB-wuA"
      },
      "execution_count": 206,
      "outputs": [
        {
          "output_type": "execute_result",
          "data": {
            "text/plain": [
              "employee_id             0\n",
              "department              0\n",
              "region                  0\n",
              "education               0\n",
              "gender                  0\n",
              "recruitment_channel     0\n",
              "no_of_trainings         0\n",
              "age                     0\n",
              "previous_year_rating    0\n",
              "length_of_service       0\n",
              "KPIs_met >80%           0\n",
              "awards_won?             0\n",
              "avg_training_score      0\n",
              "is_promoted             0\n",
              "dtype: int64"
            ]
          },
          "metadata": {},
          "execution_count": 206
        }
      ]
    },
    {
      "cell_type": "markdown",
      "source": [
        "##4.Обработаем категориальные признаки"
      ],
      "metadata": {
        "id": "d2bQv0t_BsMp"
      }
    },
    {
      "cell_type": "markdown",
      "source": [
        "Определим, какие из катигориальных признаков можно отнести к бинарным, а какие нет:"
      ],
      "metadata": {
        "id": "PSIQCq0DJ3B1"
      }
    },
    {
      "cell_type": "code",
      "source": [
        "categorical_columns = [c for c in data.columns if data[c].dtype.name == 'object']\n",
        "numerical_columns   = [c for c in data.columns if data[c].dtype.name != 'object']\n",
        "numerical_columns.remove('is_promoted')\n",
        "numerical_columns.remove('awards_won?')\n",
        "numerical_columns.remove('KPIs_met >80%')\n",
        "binar_col =  [c for c in data.columns if c == 'is_promoted' or c == 'awards_won?' or c == 'KPIs_met >80%']\n",
        "data_describe = data.describe(include = [object])\n",
        "for c in categorical_columns:\n",
        "    data[c] = data[c].fillna(data_describe[c]['top'])\n",
        "binary_columns    = [c for c in categorical_columns if data_describe[c]['unique'] == 2]\n",
        "nonbinary_columns = [c for c in categorical_columns if data_describe[c]['unique'] > 2]\n",
        "print(binary_columns, nonbinary_columns)"
      ],
      "metadata": {
        "colab": {
          "base_uri": "https://localhost:8080/"
        },
        "id": "4SGb7TyoIgQ_",
        "outputId": "08875b1f-29ee-4088-d8c4-a9eb7f6d97d1"
      },
      "execution_count": 207,
      "outputs": [
        {
          "output_type": "stream",
          "name": "stdout",
          "text": [
            "['gender'] ['department', 'region', 'education', 'recruitment_channel']\n"
          ]
        }
      ]
    },
    {
      "cell_type": "code",
      "source": [
        "data['gender'].unique()"
      ],
      "metadata": {
        "colab": {
          "base_uri": "https://localhost:8080/"
        },
        "id": "NJb9mUulJ2KN",
        "outputId": "1d18700e-cf5f-44b9-9772-67109a2be2cc"
      },
      "execution_count": 208,
      "outputs": [
        {
          "output_type": "execute_result",
          "data": {
            "text/plain": [
              "array(['f', 'm'], dtype=object)"
            ]
          },
          "metadata": {},
          "execution_count": 208
        }
      ]
    },
    {
      "cell_type": "code",
      "source": [
        "data.at[data['gender'] == 'm', 'gender'] = 0\n",
        "data.at[data['gender'] == 'f', 'gender'] = 1\n",
        "data['gender'].describe()"
      ],
      "metadata": {
        "colab": {
          "base_uri": "https://localhost:8080/"
        },
        "id": "KqBr2nH8KmPc",
        "outputId": "95d9e435-2c05-42d9-c56b-f03a7dbce22c"
      },
      "execution_count": 209,
      "outputs": [
        {
          "output_type": "execute_result",
          "data": {
            "text/plain": [
              "count     54808\n",
              "unique        2\n",
              "top           0\n",
              "freq      38496\n",
              "Name: gender, dtype: int64"
            ]
          },
          "metadata": {},
          "execution_count": 209
        }
      ]
    },
    {
      "cell_type": "code",
      "source": [
        "data['department'].unique()"
      ],
      "metadata": {
        "colab": {
          "base_uri": "https://localhost:8080/"
        },
        "id": "QuJa5RRPON5g",
        "outputId": "92625c54-bb44-4798-e196-0b52def4fe40"
      },
      "execution_count": 210,
      "outputs": [
        {
          "output_type": "execute_result",
          "data": {
            "text/plain": [
              "array(['Sales & Marketing', 'Operations', 'Technology', 'Analytics',\n",
              "       'R&D', 'Procurement', 'Finance', 'HR', 'Legal'], dtype=object)"
            ]
          },
          "metadata": {},
          "execution_count": 210
        }
      ]
    },
    {
      "cell_type": "code",
      "source": [
        "data[nonbinary_columns]"
      ],
      "metadata": {
        "colab": {
          "base_uri": "https://localhost:8080/",
          "height": 424
        },
        "id": "DL0c0L_0OyDp",
        "outputId": "a0ccefb9-019e-4183-a979-c5e59702760f"
      },
      "execution_count": 211,
      "outputs": [
        {
          "output_type": "execute_result",
          "data": {
            "text/plain": [
              "              department     region         education recruitment_channel\n",
              "0      Sales & Marketing   region_7  Master's & above            sourcing\n",
              "1             Operations  region_22        Bachelor's               other\n",
              "2      Sales & Marketing  region_19        Bachelor's            sourcing\n",
              "3      Sales & Marketing  region_23        Bachelor's               other\n",
              "4             Technology  region_26        Bachelor's               other\n",
              "...                  ...        ...               ...                 ...\n",
              "54803         Technology  region_14        Bachelor's            sourcing\n",
              "54804         Operations  region_27  Master's & above               other\n",
              "54805          Analytics   region_1        Bachelor's               other\n",
              "54806  Sales & Marketing   region_9        Bachelor's            sourcing\n",
              "54807                 HR  region_22        Bachelor's               other\n",
              "\n",
              "[54808 rows x 4 columns]"
            ],
            "text/html": [
              "\n",
              "  <div id=\"df-b2ad5bcd-623f-4b7d-b8cb-54c5bbc6e850\">\n",
              "    <div class=\"colab-df-container\">\n",
              "      <div>\n",
              "<style scoped>\n",
              "    .dataframe tbody tr th:only-of-type {\n",
              "        vertical-align: middle;\n",
              "    }\n",
              "\n",
              "    .dataframe tbody tr th {\n",
              "        vertical-align: top;\n",
              "    }\n",
              "\n",
              "    .dataframe thead th {\n",
              "        text-align: right;\n",
              "    }\n",
              "</style>\n",
              "<table border=\"1\" class=\"dataframe\">\n",
              "  <thead>\n",
              "    <tr style=\"text-align: right;\">\n",
              "      <th></th>\n",
              "      <th>department</th>\n",
              "      <th>region</th>\n",
              "      <th>education</th>\n",
              "      <th>recruitment_channel</th>\n",
              "    </tr>\n",
              "  </thead>\n",
              "  <tbody>\n",
              "    <tr>\n",
              "      <th>0</th>\n",
              "      <td>Sales &amp; Marketing</td>\n",
              "      <td>region_7</td>\n",
              "      <td>Master's &amp; above</td>\n",
              "      <td>sourcing</td>\n",
              "    </tr>\n",
              "    <tr>\n",
              "      <th>1</th>\n",
              "      <td>Operations</td>\n",
              "      <td>region_22</td>\n",
              "      <td>Bachelor's</td>\n",
              "      <td>other</td>\n",
              "    </tr>\n",
              "    <tr>\n",
              "      <th>2</th>\n",
              "      <td>Sales &amp; Marketing</td>\n",
              "      <td>region_19</td>\n",
              "      <td>Bachelor's</td>\n",
              "      <td>sourcing</td>\n",
              "    </tr>\n",
              "    <tr>\n",
              "      <th>3</th>\n",
              "      <td>Sales &amp; Marketing</td>\n",
              "      <td>region_23</td>\n",
              "      <td>Bachelor's</td>\n",
              "      <td>other</td>\n",
              "    </tr>\n",
              "    <tr>\n",
              "      <th>4</th>\n",
              "      <td>Technology</td>\n",
              "      <td>region_26</td>\n",
              "      <td>Bachelor's</td>\n",
              "      <td>other</td>\n",
              "    </tr>\n",
              "    <tr>\n",
              "      <th>...</th>\n",
              "      <td>...</td>\n",
              "      <td>...</td>\n",
              "      <td>...</td>\n",
              "      <td>...</td>\n",
              "    </tr>\n",
              "    <tr>\n",
              "      <th>54803</th>\n",
              "      <td>Technology</td>\n",
              "      <td>region_14</td>\n",
              "      <td>Bachelor's</td>\n",
              "      <td>sourcing</td>\n",
              "    </tr>\n",
              "    <tr>\n",
              "      <th>54804</th>\n",
              "      <td>Operations</td>\n",
              "      <td>region_27</td>\n",
              "      <td>Master's &amp; above</td>\n",
              "      <td>other</td>\n",
              "    </tr>\n",
              "    <tr>\n",
              "      <th>54805</th>\n",
              "      <td>Analytics</td>\n",
              "      <td>region_1</td>\n",
              "      <td>Bachelor's</td>\n",
              "      <td>other</td>\n",
              "    </tr>\n",
              "    <tr>\n",
              "      <th>54806</th>\n",
              "      <td>Sales &amp; Marketing</td>\n",
              "      <td>region_9</td>\n",
              "      <td>Bachelor's</td>\n",
              "      <td>sourcing</td>\n",
              "    </tr>\n",
              "    <tr>\n",
              "      <th>54807</th>\n",
              "      <td>HR</td>\n",
              "      <td>region_22</td>\n",
              "      <td>Bachelor's</td>\n",
              "      <td>other</td>\n",
              "    </tr>\n",
              "  </tbody>\n",
              "</table>\n",
              "<p>54808 rows × 4 columns</p>\n",
              "</div>\n",
              "      <button class=\"colab-df-convert\" onclick=\"convertToInteractive('df-b2ad5bcd-623f-4b7d-b8cb-54c5bbc6e850')\"\n",
              "              title=\"Convert this dataframe to an interactive table.\"\n",
              "              style=\"display:none;\">\n",
              "        \n",
              "  <svg xmlns=\"http://www.w3.org/2000/svg\" height=\"24px\"viewBox=\"0 0 24 24\"\n",
              "       width=\"24px\">\n",
              "    <path d=\"M0 0h24v24H0V0z\" fill=\"none\"/>\n",
              "    <path d=\"M18.56 5.44l.94 2.06.94-2.06 2.06-.94-2.06-.94-.94-2.06-.94 2.06-2.06.94zm-11 1L8.5 8.5l.94-2.06 2.06-.94-2.06-.94L8.5 2.5l-.94 2.06-2.06.94zm10 10l.94 2.06.94-2.06 2.06-.94-2.06-.94-.94-2.06-.94 2.06-2.06.94z\"/><path d=\"M17.41 7.96l-1.37-1.37c-.4-.4-.92-.59-1.43-.59-.52 0-1.04.2-1.43.59L10.3 9.45l-7.72 7.72c-.78.78-.78 2.05 0 2.83L4 21.41c.39.39.9.59 1.41.59.51 0 1.02-.2 1.41-.59l7.78-7.78 2.81-2.81c.8-.78.8-2.07 0-2.86zM5.41 20L4 18.59l7.72-7.72 1.47 1.35L5.41 20z\"/>\n",
              "  </svg>\n",
              "      </button>\n",
              "      \n",
              "  <style>\n",
              "    .colab-df-container {\n",
              "      display:flex;\n",
              "      flex-wrap:wrap;\n",
              "      gap: 12px;\n",
              "    }\n",
              "\n",
              "    .colab-df-convert {\n",
              "      background-color: #E8F0FE;\n",
              "      border: none;\n",
              "      border-radius: 50%;\n",
              "      cursor: pointer;\n",
              "      display: none;\n",
              "      fill: #1967D2;\n",
              "      height: 32px;\n",
              "      padding: 0 0 0 0;\n",
              "      width: 32px;\n",
              "    }\n",
              "\n",
              "    .colab-df-convert:hover {\n",
              "      background-color: #E2EBFA;\n",
              "      box-shadow: 0px 1px 2px rgba(60, 64, 67, 0.3), 0px 1px 3px 1px rgba(60, 64, 67, 0.15);\n",
              "      fill: #174EA6;\n",
              "    }\n",
              "\n",
              "    [theme=dark] .colab-df-convert {\n",
              "      background-color: #3B4455;\n",
              "      fill: #D2E3FC;\n",
              "    }\n",
              "\n",
              "    [theme=dark] .colab-df-convert:hover {\n",
              "      background-color: #434B5C;\n",
              "      box-shadow: 0px 1px 3px 1px rgba(0, 0, 0, 0.15);\n",
              "      filter: drop-shadow(0px 1px 2px rgba(0, 0, 0, 0.3));\n",
              "      fill: #FFFFFF;\n",
              "    }\n",
              "  </style>\n",
              "\n",
              "      <script>\n",
              "        const buttonEl =\n",
              "          document.querySelector('#df-b2ad5bcd-623f-4b7d-b8cb-54c5bbc6e850 button.colab-df-convert');\n",
              "        buttonEl.style.display =\n",
              "          google.colab.kernel.accessAllowed ? 'block' : 'none';\n",
              "\n",
              "        async function convertToInteractive(key) {\n",
              "          const element = document.querySelector('#df-b2ad5bcd-623f-4b7d-b8cb-54c5bbc6e850');\n",
              "          const dataTable =\n",
              "            await google.colab.kernel.invokeFunction('convertToInteractive',\n",
              "                                                     [key], {});\n",
              "          if (!dataTable) return;\n",
              "\n",
              "          const docLinkHtml = 'Like what you see? Visit the ' +\n",
              "            '<a target=\"_blank\" href=https://colab.research.google.com/notebooks/data_table.ipynb>data table notebook</a>'\n",
              "            + ' to learn more about interactive tables.';\n",
              "          element.innerHTML = '';\n",
              "          dataTable['output_type'] = 'display_data';\n",
              "          await google.colab.output.renderOutput(dataTable, element);\n",
              "          const docLink = document.createElement('div');\n",
              "          docLink.innerHTML = docLinkHtml;\n",
              "          element.appendChild(docLink);\n",
              "        }\n",
              "      </script>\n",
              "    </div>\n",
              "  </div>\n",
              "  "
            ]
          },
          "metadata": {},
          "execution_count": 211
        }
      ]
    },
    {
      "cell_type": "code",
      "source": [
        "data_nonbinary = pd.get_dummies(data[nonbinary_columns])\n",
        "print(data_nonbinary.columns)"
      ],
      "metadata": {
        "colab": {
          "base_uri": "https://localhost:8080/"
        },
        "id": "fZZ-7zefPnIG",
        "outputId": "981fec48-f170-4a2f-dc2c-5742370a7f2d"
      },
      "execution_count": 212,
      "outputs": [
        {
          "output_type": "stream",
          "name": "stdout",
          "text": [
            "Index(['department_Analytics', 'department_Finance', 'department_HR',\n",
            "       'department_Legal', 'department_Operations', 'department_Procurement',\n",
            "       'department_R&D', 'department_Sales & Marketing',\n",
            "       'department_Technology', 'region_region_1', 'region_region_10',\n",
            "       'region_region_11', 'region_region_12', 'region_region_13',\n",
            "       'region_region_14', 'region_region_15', 'region_region_16',\n",
            "       'region_region_17', 'region_region_18', 'region_region_19',\n",
            "       'region_region_2', 'region_region_20', 'region_region_21',\n",
            "       'region_region_22', 'region_region_23', 'region_region_24',\n",
            "       'region_region_25', 'region_region_26', 'region_region_27',\n",
            "       'region_region_28', 'region_region_29', 'region_region_3',\n",
            "       'region_region_30', 'region_region_31', 'region_region_32',\n",
            "       'region_region_33', 'region_region_34', 'region_region_4',\n",
            "       'region_region_5', 'region_region_6', 'region_region_7',\n",
            "       'region_region_8', 'region_region_9', 'education_Bachelor's',\n",
            "       'education_Below Secondary', 'education_Master's & above',\n",
            "       'recruitment_channel_other', 'recruitment_channel_referred',\n",
            "       'recruitment_channel_sourcing'],\n",
            "      dtype='object')\n"
          ]
        }
      ]
    },
    {
      "cell_type": "code",
      "source": [
        "len(data_nonbinary.columns)"
      ],
      "metadata": {
        "colab": {
          "base_uri": "https://localhost:8080/"
        },
        "id": "owJA8w_MPpj9",
        "outputId": "68ca8456-32f9-4928-d5da-f0adecb34a1f"
      },
      "execution_count": 213,
      "outputs": [
        {
          "output_type": "execute_result",
          "data": {
            "text/plain": [
              "49"
            ]
          },
          "metadata": {},
          "execution_count": 213
        }
      ]
    },
    {
      "cell_type": "markdown",
      "source": [
        "##5.Проведем нормализацию"
      ],
      "metadata": {
        "id": "asCgIQtgCCWK"
      }
    },
    {
      "cell_type": "code",
      "source": [
        "data_numerical = data[numerical_columns]\n",
        "data_numerical.describe()"
      ],
      "metadata": {
        "colab": {
          "base_uri": "https://localhost:8080/",
          "height": 300
        },
        "id": "NOwUHVxIOsOO",
        "outputId": "61eb73df-210c-4c2d-ed69-0d5fcec2fe49"
      },
      "execution_count": 214,
      "outputs": [
        {
          "output_type": "execute_result",
          "data": {
            "text/plain": [
              "        employee_id  no_of_trainings           age  previous_year_rating  \\\n",
              "count  54808.000000     54808.000000  54808.000000          54808.000000   \n",
              "mean   39195.830627         1.253011     34.803915              3.304481   \n",
              "std    22586.581449         0.609264      7.660169              1.214770   \n",
              "min        1.000000         1.000000     20.000000              1.000000   \n",
              "25%    19669.750000         1.000000     29.000000              3.000000   \n",
              "50%    39225.500000         1.000000     33.000000              3.000000   \n",
              "75%    58730.500000         1.000000     39.000000              4.000000   \n",
              "max    78298.000000        10.000000     60.000000              5.000000   \n",
              "\n",
              "       length_of_service  avg_training_score  \n",
              "count       54808.000000        54808.000000  \n",
              "mean            5.865512           63.386750  \n",
              "std             4.265094           13.371559  \n",
              "min             1.000000           39.000000  \n",
              "25%             3.000000           51.000000  \n",
              "50%             5.000000           60.000000  \n",
              "75%             7.000000           76.000000  \n",
              "max            37.000000           99.000000  "
            ],
            "text/html": [
              "\n",
              "  <div id=\"df-21fb36f2-cc8c-4cbf-aede-c4f53afcda39\">\n",
              "    <div class=\"colab-df-container\">\n",
              "      <div>\n",
              "<style scoped>\n",
              "    .dataframe tbody tr th:only-of-type {\n",
              "        vertical-align: middle;\n",
              "    }\n",
              "\n",
              "    .dataframe tbody tr th {\n",
              "        vertical-align: top;\n",
              "    }\n",
              "\n",
              "    .dataframe thead th {\n",
              "        text-align: right;\n",
              "    }\n",
              "</style>\n",
              "<table border=\"1\" class=\"dataframe\">\n",
              "  <thead>\n",
              "    <tr style=\"text-align: right;\">\n",
              "      <th></th>\n",
              "      <th>employee_id</th>\n",
              "      <th>no_of_trainings</th>\n",
              "      <th>age</th>\n",
              "      <th>previous_year_rating</th>\n",
              "      <th>length_of_service</th>\n",
              "      <th>avg_training_score</th>\n",
              "    </tr>\n",
              "  </thead>\n",
              "  <tbody>\n",
              "    <tr>\n",
              "      <th>count</th>\n",
              "      <td>54808.000000</td>\n",
              "      <td>54808.000000</td>\n",
              "      <td>54808.000000</td>\n",
              "      <td>54808.000000</td>\n",
              "      <td>54808.000000</td>\n",
              "      <td>54808.000000</td>\n",
              "    </tr>\n",
              "    <tr>\n",
              "      <th>mean</th>\n",
              "      <td>39195.830627</td>\n",
              "      <td>1.253011</td>\n",
              "      <td>34.803915</td>\n",
              "      <td>3.304481</td>\n",
              "      <td>5.865512</td>\n",
              "      <td>63.386750</td>\n",
              "    </tr>\n",
              "    <tr>\n",
              "      <th>std</th>\n",
              "      <td>22586.581449</td>\n",
              "      <td>0.609264</td>\n",
              "      <td>7.660169</td>\n",
              "      <td>1.214770</td>\n",
              "      <td>4.265094</td>\n",
              "      <td>13.371559</td>\n",
              "    </tr>\n",
              "    <tr>\n",
              "      <th>min</th>\n",
              "      <td>1.000000</td>\n",
              "      <td>1.000000</td>\n",
              "      <td>20.000000</td>\n",
              "      <td>1.000000</td>\n",
              "      <td>1.000000</td>\n",
              "      <td>39.000000</td>\n",
              "    </tr>\n",
              "    <tr>\n",
              "      <th>25%</th>\n",
              "      <td>19669.750000</td>\n",
              "      <td>1.000000</td>\n",
              "      <td>29.000000</td>\n",
              "      <td>3.000000</td>\n",
              "      <td>3.000000</td>\n",
              "      <td>51.000000</td>\n",
              "    </tr>\n",
              "    <tr>\n",
              "      <th>50%</th>\n",
              "      <td>39225.500000</td>\n",
              "      <td>1.000000</td>\n",
              "      <td>33.000000</td>\n",
              "      <td>3.000000</td>\n",
              "      <td>5.000000</td>\n",
              "      <td>60.000000</td>\n",
              "    </tr>\n",
              "    <tr>\n",
              "      <th>75%</th>\n",
              "      <td>58730.500000</td>\n",
              "      <td>1.000000</td>\n",
              "      <td>39.000000</td>\n",
              "      <td>4.000000</td>\n",
              "      <td>7.000000</td>\n",
              "      <td>76.000000</td>\n",
              "    </tr>\n",
              "    <tr>\n",
              "      <th>max</th>\n",
              "      <td>78298.000000</td>\n",
              "      <td>10.000000</td>\n",
              "      <td>60.000000</td>\n",
              "      <td>5.000000</td>\n",
              "      <td>37.000000</td>\n",
              "      <td>99.000000</td>\n",
              "    </tr>\n",
              "  </tbody>\n",
              "</table>\n",
              "</div>\n",
              "      <button class=\"colab-df-convert\" onclick=\"convertToInteractive('df-21fb36f2-cc8c-4cbf-aede-c4f53afcda39')\"\n",
              "              title=\"Convert this dataframe to an interactive table.\"\n",
              "              style=\"display:none;\">\n",
              "        \n",
              "  <svg xmlns=\"http://www.w3.org/2000/svg\" height=\"24px\"viewBox=\"0 0 24 24\"\n",
              "       width=\"24px\">\n",
              "    <path d=\"M0 0h24v24H0V0z\" fill=\"none\"/>\n",
              "    <path d=\"M18.56 5.44l.94 2.06.94-2.06 2.06-.94-2.06-.94-.94-2.06-.94 2.06-2.06.94zm-11 1L8.5 8.5l.94-2.06 2.06-.94-2.06-.94L8.5 2.5l-.94 2.06-2.06.94zm10 10l.94 2.06.94-2.06 2.06-.94-2.06-.94-.94-2.06-.94 2.06-2.06.94z\"/><path d=\"M17.41 7.96l-1.37-1.37c-.4-.4-.92-.59-1.43-.59-.52 0-1.04.2-1.43.59L10.3 9.45l-7.72 7.72c-.78.78-.78 2.05 0 2.83L4 21.41c.39.39.9.59 1.41.59.51 0 1.02-.2 1.41-.59l7.78-7.78 2.81-2.81c.8-.78.8-2.07 0-2.86zM5.41 20L4 18.59l7.72-7.72 1.47 1.35L5.41 20z\"/>\n",
              "  </svg>\n",
              "      </button>\n",
              "      \n",
              "  <style>\n",
              "    .colab-df-container {\n",
              "      display:flex;\n",
              "      flex-wrap:wrap;\n",
              "      gap: 12px;\n",
              "    }\n",
              "\n",
              "    .colab-df-convert {\n",
              "      background-color: #E8F0FE;\n",
              "      border: none;\n",
              "      border-radius: 50%;\n",
              "      cursor: pointer;\n",
              "      display: none;\n",
              "      fill: #1967D2;\n",
              "      height: 32px;\n",
              "      padding: 0 0 0 0;\n",
              "      width: 32px;\n",
              "    }\n",
              "\n",
              "    .colab-df-convert:hover {\n",
              "      background-color: #E2EBFA;\n",
              "      box-shadow: 0px 1px 2px rgba(60, 64, 67, 0.3), 0px 1px 3px 1px rgba(60, 64, 67, 0.15);\n",
              "      fill: #174EA6;\n",
              "    }\n",
              "\n",
              "    [theme=dark] .colab-df-convert {\n",
              "      background-color: #3B4455;\n",
              "      fill: #D2E3FC;\n",
              "    }\n",
              "\n",
              "    [theme=dark] .colab-df-convert:hover {\n",
              "      background-color: #434B5C;\n",
              "      box-shadow: 0px 1px 3px 1px rgba(0, 0, 0, 0.15);\n",
              "      filter: drop-shadow(0px 1px 2px rgba(0, 0, 0, 0.3));\n",
              "      fill: #FFFFFF;\n",
              "    }\n",
              "  </style>\n",
              "\n",
              "      <script>\n",
              "        const buttonEl =\n",
              "          document.querySelector('#df-21fb36f2-cc8c-4cbf-aede-c4f53afcda39 button.colab-df-convert');\n",
              "        buttonEl.style.display =\n",
              "          google.colab.kernel.accessAllowed ? 'block' : 'none';\n",
              "\n",
              "        async function convertToInteractive(key) {\n",
              "          const element = document.querySelector('#df-21fb36f2-cc8c-4cbf-aede-c4f53afcda39');\n",
              "          const dataTable =\n",
              "            await google.colab.kernel.invokeFunction('convertToInteractive',\n",
              "                                                     [key], {});\n",
              "          if (!dataTable) return;\n",
              "\n",
              "          const docLinkHtml = 'Like what you see? Visit the ' +\n",
              "            '<a target=\"_blank\" href=https://colab.research.google.com/notebooks/data_table.ipynb>data table notebook</a>'\n",
              "            + ' to learn more about interactive tables.';\n",
              "          element.innerHTML = '';\n",
              "          dataTable['output_type'] = 'display_data';\n",
              "          await google.colab.output.renderOutput(dataTable, element);\n",
              "          const docLink = document.createElement('div');\n",
              "          docLink.innerHTML = docLinkHtml;\n",
              "          element.appendChild(docLink);\n",
              "        }\n",
              "      </script>\n",
              "    </div>\n",
              "  </div>\n",
              "  "
            ]
          },
          "metadata": {},
          "execution_count": 214
        }
      ]
    },
    {
      "cell_type": "code",
      "source": [
        "data_numerical = (data_numerical - data_numerical.mean(axis = 0))/data_numerical.std(axis = 0)"
      ],
      "metadata": {
        "id": "mGg59ylc5jxq"
      },
      "execution_count": 215,
      "outputs": []
    },
    {
      "cell_type": "code",
      "source": [
        "data_numerical.describe()"
      ],
      "metadata": {
        "colab": {
          "base_uri": "https://localhost:8080/",
          "height": 300
        },
        "id": "eSNFJNHi5t1o",
        "outputId": "c6800847-1b72-4b34-e3ff-d1947844442d"
      },
      "execution_count": 216,
      "outputs": [
        {
          "output_type": "execute_result",
          "data": {
            "text/plain": [
              "        employee_id  no_of_trainings           age  previous_year_rating  \\\n",
              "count  5.480800e+04     5.480800e+04  5.480800e+04          5.480800e+04   \n",
              "mean   9.878732e-17     1.970561e-17 -3.720730e-16         -2.207806e-16   \n",
              "std    1.000000e+00     1.000000e+00  1.000000e+00          1.000000e+00   \n",
              "min   -1.735315e+00    -4.152724e-01 -1.932583e+00         -1.897052e+00   \n",
              "25%   -8.644992e-01    -4.152724e-01 -7.576746e-01         -2.506492e-01   \n",
              "50%    1.313584e-03    -4.152724e-01 -2.354929e-01         -2.506492e-01   \n",
              "75%    8.648794e-01    -4.152724e-01  5.477796e-01          5.725520e-01   \n",
              "max    1.731212e+00     1.435665e+01  3.289233e+00          1.395753e+00   \n",
              "\n",
              "       length_of_service  avg_training_score  \n",
              "count       5.480800e+04        5.480800e+04  \n",
              "mean        4.816206e-17       -2.852127e-17  \n",
              "std         1.000000e+00        1.000000e+00  \n",
              "min        -1.140775e+00       -1.823778e+00  \n",
              "25%        -6.718521e-01       -9.263504e-01  \n",
              "50%        -2.029292e-01       -2.532801e-01  \n",
              "75%         2.659936e-01        9.432894e-01  \n",
              "max         7.299836e+00        2.663358e+00  "
            ],
            "text/html": [
              "\n",
              "  <div id=\"df-aa8e9949-ddc4-4efa-820d-70de324eb88a\">\n",
              "    <div class=\"colab-df-container\">\n",
              "      <div>\n",
              "<style scoped>\n",
              "    .dataframe tbody tr th:only-of-type {\n",
              "        vertical-align: middle;\n",
              "    }\n",
              "\n",
              "    .dataframe tbody tr th {\n",
              "        vertical-align: top;\n",
              "    }\n",
              "\n",
              "    .dataframe thead th {\n",
              "        text-align: right;\n",
              "    }\n",
              "</style>\n",
              "<table border=\"1\" class=\"dataframe\">\n",
              "  <thead>\n",
              "    <tr style=\"text-align: right;\">\n",
              "      <th></th>\n",
              "      <th>employee_id</th>\n",
              "      <th>no_of_trainings</th>\n",
              "      <th>age</th>\n",
              "      <th>previous_year_rating</th>\n",
              "      <th>length_of_service</th>\n",
              "      <th>avg_training_score</th>\n",
              "    </tr>\n",
              "  </thead>\n",
              "  <tbody>\n",
              "    <tr>\n",
              "      <th>count</th>\n",
              "      <td>5.480800e+04</td>\n",
              "      <td>5.480800e+04</td>\n",
              "      <td>5.480800e+04</td>\n",
              "      <td>5.480800e+04</td>\n",
              "      <td>5.480800e+04</td>\n",
              "      <td>5.480800e+04</td>\n",
              "    </tr>\n",
              "    <tr>\n",
              "      <th>mean</th>\n",
              "      <td>9.878732e-17</td>\n",
              "      <td>1.970561e-17</td>\n",
              "      <td>-3.720730e-16</td>\n",
              "      <td>-2.207806e-16</td>\n",
              "      <td>4.816206e-17</td>\n",
              "      <td>-2.852127e-17</td>\n",
              "    </tr>\n",
              "    <tr>\n",
              "      <th>std</th>\n",
              "      <td>1.000000e+00</td>\n",
              "      <td>1.000000e+00</td>\n",
              "      <td>1.000000e+00</td>\n",
              "      <td>1.000000e+00</td>\n",
              "      <td>1.000000e+00</td>\n",
              "      <td>1.000000e+00</td>\n",
              "    </tr>\n",
              "    <tr>\n",
              "      <th>min</th>\n",
              "      <td>-1.735315e+00</td>\n",
              "      <td>-4.152724e-01</td>\n",
              "      <td>-1.932583e+00</td>\n",
              "      <td>-1.897052e+00</td>\n",
              "      <td>-1.140775e+00</td>\n",
              "      <td>-1.823778e+00</td>\n",
              "    </tr>\n",
              "    <tr>\n",
              "      <th>25%</th>\n",
              "      <td>-8.644992e-01</td>\n",
              "      <td>-4.152724e-01</td>\n",
              "      <td>-7.576746e-01</td>\n",
              "      <td>-2.506492e-01</td>\n",
              "      <td>-6.718521e-01</td>\n",
              "      <td>-9.263504e-01</td>\n",
              "    </tr>\n",
              "    <tr>\n",
              "      <th>50%</th>\n",
              "      <td>1.313584e-03</td>\n",
              "      <td>-4.152724e-01</td>\n",
              "      <td>-2.354929e-01</td>\n",
              "      <td>-2.506492e-01</td>\n",
              "      <td>-2.029292e-01</td>\n",
              "      <td>-2.532801e-01</td>\n",
              "    </tr>\n",
              "    <tr>\n",
              "      <th>75%</th>\n",
              "      <td>8.648794e-01</td>\n",
              "      <td>-4.152724e-01</td>\n",
              "      <td>5.477796e-01</td>\n",
              "      <td>5.725520e-01</td>\n",
              "      <td>2.659936e-01</td>\n",
              "      <td>9.432894e-01</td>\n",
              "    </tr>\n",
              "    <tr>\n",
              "      <th>max</th>\n",
              "      <td>1.731212e+00</td>\n",
              "      <td>1.435665e+01</td>\n",
              "      <td>3.289233e+00</td>\n",
              "      <td>1.395753e+00</td>\n",
              "      <td>7.299836e+00</td>\n",
              "      <td>2.663358e+00</td>\n",
              "    </tr>\n",
              "  </tbody>\n",
              "</table>\n",
              "</div>\n",
              "      <button class=\"colab-df-convert\" onclick=\"convertToInteractive('df-aa8e9949-ddc4-4efa-820d-70de324eb88a')\"\n",
              "              title=\"Convert this dataframe to an interactive table.\"\n",
              "              style=\"display:none;\">\n",
              "        \n",
              "  <svg xmlns=\"http://www.w3.org/2000/svg\" height=\"24px\"viewBox=\"0 0 24 24\"\n",
              "       width=\"24px\">\n",
              "    <path d=\"M0 0h24v24H0V0z\" fill=\"none\"/>\n",
              "    <path d=\"M18.56 5.44l.94 2.06.94-2.06 2.06-.94-2.06-.94-.94-2.06-.94 2.06-2.06.94zm-11 1L8.5 8.5l.94-2.06 2.06-.94-2.06-.94L8.5 2.5l-.94 2.06-2.06.94zm10 10l.94 2.06.94-2.06 2.06-.94-2.06-.94-.94-2.06-.94 2.06-2.06.94z\"/><path d=\"M17.41 7.96l-1.37-1.37c-.4-.4-.92-.59-1.43-.59-.52 0-1.04.2-1.43.59L10.3 9.45l-7.72 7.72c-.78.78-.78 2.05 0 2.83L4 21.41c.39.39.9.59 1.41.59.51 0 1.02-.2 1.41-.59l7.78-7.78 2.81-2.81c.8-.78.8-2.07 0-2.86zM5.41 20L4 18.59l7.72-7.72 1.47 1.35L5.41 20z\"/>\n",
              "  </svg>\n",
              "      </button>\n",
              "      \n",
              "  <style>\n",
              "    .colab-df-container {\n",
              "      display:flex;\n",
              "      flex-wrap:wrap;\n",
              "      gap: 12px;\n",
              "    }\n",
              "\n",
              "    .colab-df-convert {\n",
              "      background-color: #E8F0FE;\n",
              "      border: none;\n",
              "      border-radius: 50%;\n",
              "      cursor: pointer;\n",
              "      display: none;\n",
              "      fill: #1967D2;\n",
              "      height: 32px;\n",
              "      padding: 0 0 0 0;\n",
              "      width: 32px;\n",
              "    }\n",
              "\n",
              "    .colab-df-convert:hover {\n",
              "      background-color: #E2EBFA;\n",
              "      box-shadow: 0px 1px 2px rgba(60, 64, 67, 0.3), 0px 1px 3px 1px rgba(60, 64, 67, 0.15);\n",
              "      fill: #174EA6;\n",
              "    }\n",
              "\n",
              "    [theme=dark] .colab-df-convert {\n",
              "      background-color: #3B4455;\n",
              "      fill: #D2E3FC;\n",
              "    }\n",
              "\n",
              "    [theme=dark] .colab-df-convert:hover {\n",
              "      background-color: #434B5C;\n",
              "      box-shadow: 0px 1px 3px 1px rgba(0, 0, 0, 0.15);\n",
              "      filter: drop-shadow(0px 1px 2px rgba(0, 0, 0, 0.3));\n",
              "      fill: #FFFFFF;\n",
              "    }\n",
              "  </style>\n",
              "\n",
              "      <script>\n",
              "        const buttonEl =\n",
              "          document.querySelector('#df-aa8e9949-ddc4-4efa-820d-70de324eb88a button.colab-df-convert');\n",
              "        buttonEl.style.display =\n",
              "          google.colab.kernel.accessAllowed ? 'block' : 'none';\n",
              "\n",
              "        async function convertToInteractive(key) {\n",
              "          const element = document.querySelector('#df-aa8e9949-ddc4-4efa-820d-70de324eb88a');\n",
              "          const dataTable =\n",
              "            await google.colab.kernel.invokeFunction('convertToInteractive',\n",
              "                                                     [key], {});\n",
              "          if (!dataTable) return;\n",
              "\n",
              "          const docLinkHtml = 'Like what you see? Visit the ' +\n",
              "            '<a target=\"_blank\" href=https://colab.research.google.com/notebooks/data_table.ipynb>data table notebook</a>'\n",
              "            + ' to learn more about interactive tables.';\n",
              "          element.innerHTML = '';\n",
              "          dataTable['output_type'] = 'display_data';\n",
              "          await google.colab.output.renderOutput(dataTable, element);\n",
              "          const docLink = document.createElement('div');\n",
              "          docLink.innerHTML = docLinkHtml;\n",
              "          element.appendChild(docLink);\n",
              "        }\n",
              "      </script>\n",
              "    </div>\n",
              "  </div>\n",
              "  "
            ]
          },
          "metadata": {},
          "execution_count": 216
        }
      ]
    },
    {
      "cell_type": "code",
      "source": [
        "data = pd.concat((data_numerical, data_nonbinary, data[binary_columns], data[binar_col]), axis = 1)\n",
        "print(data.shape)"
      ],
      "metadata": {
        "colab": {
          "base_uri": "https://localhost:8080/"
        },
        "id": "FcSjDKmz50Ie",
        "outputId": "38a8332f-ce20-4624-bf73-431b40536cb9"
      },
      "execution_count": 217,
      "outputs": [
        {
          "output_type": "stream",
          "name": "stdout",
          "text": [
            "(54808, 59)\n"
          ]
        }
      ]
    },
    {
      "cell_type": "code",
      "source": [
        "data.describe()"
      ],
      "metadata": {
        "colab": {
          "base_uri": "https://localhost:8080/",
          "height": 411
        },
        "id": "ql8HALRj52FQ",
        "outputId": "1c7c92c4-0a1d-428e-cbae-4a58c149e410"
      },
      "execution_count": 218,
      "outputs": [
        {
          "output_type": "execute_result",
          "data": {
            "text/plain": [
              "        employee_id  no_of_trainings           age  previous_year_rating  \\\n",
              "count  5.480800e+04     5.480800e+04  5.480800e+04          5.480800e+04   \n",
              "mean   9.878732e-17     1.970561e-17 -3.720730e-16         -2.207806e-16   \n",
              "std    1.000000e+00     1.000000e+00  1.000000e+00          1.000000e+00   \n",
              "min   -1.735315e+00    -4.152724e-01 -1.932583e+00         -1.897052e+00   \n",
              "25%   -8.644992e-01    -4.152724e-01 -7.576746e-01         -2.506492e-01   \n",
              "50%    1.313584e-03    -4.152724e-01 -2.354929e-01         -2.506492e-01   \n",
              "75%    8.648794e-01    -4.152724e-01  5.477796e-01          5.725520e-01   \n",
              "max    1.731212e+00     1.435665e+01  3.289233e+00          1.395753e+00   \n",
              "\n",
              "       length_of_service  avg_training_score  department_Analytics  \\\n",
              "count       5.480800e+04        5.480800e+04          54808.000000   \n",
              "mean        4.816206e-17       -2.852127e-17              0.097650   \n",
              "std         1.000000e+00        1.000000e+00              0.296844   \n",
              "min        -1.140775e+00       -1.823778e+00              0.000000   \n",
              "25%        -6.718521e-01       -9.263504e-01              0.000000   \n",
              "50%        -2.029292e-01       -2.532801e-01              0.000000   \n",
              "75%         2.659936e-01        9.432894e-01              0.000000   \n",
              "max         7.299836e+00        2.663358e+00              1.000000   \n",
              "\n",
              "       department_Finance  department_HR  department_Legal  ...  \\\n",
              "count        54808.000000   54808.000000      54808.000000  ...   \n",
              "mean             0.046271       0.044118          0.018957  ...   \n",
              "std              0.210072       0.205358          0.136375  ...   \n",
              "min              0.000000       0.000000          0.000000  ...   \n",
              "25%              0.000000       0.000000          0.000000  ...   \n",
              "50%              0.000000       0.000000          0.000000  ...   \n",
              "75%              0.000000       0.000000          0.000000  ...   \n",
              "max              1.000000       1.000000          1.000000  ...   \n",
              "\n",
              "       region_region_9  education_Bachelor's  education_Below Secondary  \\\n",
              "count     54808.000000          54808.000000               54808.000000   \n",
              "mean          0.007663              0.712998                   0.014688   \n",
              "std           0.087204              0.452367                   0.120300   \n",
              "min           0.000000              0.000000                   0.000000   \n",
              "25%           0.000000              0.000000                   0.000000   \n",
              "50%           0.000000              1.000000                   0.000000   \n",
              "75%           0.000000              1.000000                   0.000000   \n",
              "max           1.000000              1.000000                   1.000000   \n",
              "\n",
              "       education_Master's & above  recruitment_channel_other  \\\n",
              "count                54808.000000               54808.000000   \n",
              "mean                     0.272314                   0.555503   \n",
              "std                      0.445155                   0.496914   \n",
              "min                      0.000000                   0.000000   \n",
              "25%                      0.000000                   0.000000   \n",
              "50%                      0.000000                   1.000000   \n",
              "75%                      1.000000                   1.000000   \n",
              "max                      1.000000                   1.000000   \n",
              "\n",
              "       recruitment_channel_referred  recruitment_channel_sourcing  \\\n",
              "count                  54808.000000                  54808.000000   \n",
              "mean                       0.020836                      0.423661   \n",
              "std                        0.142838                      0.494142   \n",
              "min                        0.000000                      0.000000   \n",
              "25%                        0.000000                      0.000000   \n",
              "50%                        0.000000                      0.000000   \n",
              "75%                        0.000000                      1.000000   \n",
              "max                        1.000000                      1.000000   \n",
              "\n",
              "       KPIs_met >80%   awards_won?   is_promoted  \n",
              "count   54808.000000  54808.000000  54808.000000  \n",
              "mean        0.351974      0.023172      0.085170  \n",
              "std         0.477590      0.150450      0.279137  \n",
              "min         0.000000      0.000000      0.000000  \n",
              "25%         0.000000      0.000000      0.000000  \n",
              "50%         0.000000      0.000000      0.000000  \n",
              "75%         1.000000      0.000000      0.000000  \n",
              "max         1.000000      1.000000      1.000000  \n",
              "\n",
              "[8 rows x 58 columns]"
            ],
            "text/html": [
              "\n",
              "  <div id=\"df-8af3e097-f5d7-45cf-bb7c-facf27cc6c65\">\n",
              "    <div class=\"colab-df-container\">\n",
              "      <div>\n",
              "<style scoped>\n",
              "    .dataframe tbody tr th:only-of-type {\n",
              "        vertical-align: middle;\n",
              "    }\n",
              "\n",
              "    .dataframe tbody tr th {\n",
              "        vertical-align: top;\n",
              "    }\n",
              "\n",
              "    .dataframe thead th {\n",
              "        text-align: right;\n",
              "    }\n",
              "</style>\n",
              "<table border=\"1\" class=\"dataframe\">\n",
              "  <thead>\n",
              "    <tr style=\"text-align: right;\">\n",
              "      <th></th>\n",
              "      <th>employee_id</th>\n",
              "      <th>no_of_trainings</th>\n",
              "      <th>age</th>\n",
              "      <th>previous_year_rating</th>\n",
              "      <th>length_of_service</th>\n",
              "      <th>avg_training_score</th>\n",
              "      <th>department_Analytics</th>\n",
              "      <th>department_Finance</th>\n",
              "      <th>department_HR</th>\n",
              "      <th>department_Legal</th>\n",
              "      <th>...</th>\n",
              "      <th>region_region_9</th>\n",
              "      <th>education_Bachelor's</th>\n",
              "      <th>education_Below Secondary</th>\n",
              "      <th>education_Master's &amp; above</th>\n",
              "      <th>recruitment_channel_other</th>\n",
              "      <th>recruitment_channel_referred</th>\n",
              "      <th>recruitment_channel_sourcing</th>\n",
              "      <th>KPIs_met &gt;80%</th>\n",
              "      <th>awards_won?</th>\n",
              "      <th>is_promoted</th>\n",
              "    </tr>\n",
              "  </thead>\n",
              "  <tbody>\n",
              "    <tr>\n",
              "      <th>count</th>\n",
              "      <td>5.480800e+04</td>\n",
              "      <td>5.480800e+04</td>\n",
              "      <td>5.480800e+04</td>\n",
              "      <td>5.480800e+04</td>\n",
              "      <td>5.480800e+04</td>\n",
              "      <td>5.480800e+04</td>\n",
              "      <td>54808.000000</td>\n",
              "      <td>54808.000000</td>\n",
              "      <td>54808.000000</td>\n",
              "      <td>54808.000000</td>\n",
              "      <td>...</td>\n",
              "      <td>54808.000000</td>\n",
              "      <td>54808.000000</td>\n",
              "      <td>54808.000000</td>\n",
              "      <td>54808.000000</td>\n",
              "      <td>54808.000000</td>\n",
              "      <td>54808.000000</td>\n",
              "      <td>54808.000000</td>\n",
              "      <td>54808.000000</td>\n",
              "      <td>54808.000000</td>\n",
              "      <td>54808.000000</td>\n",
              "    </tr>\n",
              "    <tr>\n",
              "      <th>mean</th>\n",
              "      <td>9.878732e-17</td>\n",
              "      <td>1.970561e-17</td>\n",
              "      <td>-3.720730e-16</td>\n",
              "      <td>-2.207806e-16</td>\n",
              "      <td>4.816206e-17</td>\n",
              "      <td>-2.852127e-17</td>\n",
              "      <td>0.097650</td>\n",
              "      <td>0.046271</td>\n",
              "      <td>0.044118</td>\n",
              "      <td>0.018957</td>\n",
              "      <td>...</td>\n",
              "      <td>0.007663</td>\n",
              "      <td>0.712998</td>\n",
              "      <td>0.014688</td>\n",
              "      <td>0.272314</td>\n",
              "      <td>0.555503</td>\n",
              "      <td>0.020836</td>\n",
              "      <td>0.423661</td>\n",
              "      <td>0.351974</td>\n",
              "      <td>0.023172</td>\n",
              "      <td>0.085170</td>\n",
              "    </tr>\n",
              "    <tr>\n",
              "      <th>std</th>\n",
              "      <td>1.000000e+00</td>\n",
              "      <td>1.000000e+00</td>\n",
              "      <td>1.000000e+00</td>\n",
              "      <td>1.000000e+00</td>\n",
              "      <td>1.000000e+00</td>\n",
              "      <td>1.000000e+00</td>\n",
              "      <td>0.296844</td>\n",
              "      <td>0.210072</td>\n",
              "      <td>0.205358</td>\n",
              "      <td>0.136375</td>\n",
              "      <td>...</td>\n",
              "      <td>0.087204</td>\n",
              "      <td>0.452367</td>\n",
              "      <td>0.120300</td>\n",
              "      <td>0.445155</td>\n",
              "      <td>0.496914</td>\n",
              "      <td>0.142838</td>\n",
              "      <td>0.494142</td>\n",
              "      <td>0.477590</td>\n",
              "      <td>0.150450</td>\n",
              "      <td>0.279137</td>\n",
              "    </tr>\n",
              "    <tr>\n",
              "      <th>min</th>\n",
              "      <td>-1.735315e+00</td>\n",
              "      <td>-4.152724e-01</td>\n",
              "      <td>-1.932583e+00</td>\n",
              "      <td>-1.897052e+00</td>\n",
              "      <td>-1.140775e+00</td>\n",
              "      <td>-1.823778e+00</td>\n",
              "      <td>0.000000</td>\n",
              "      <td>0.000000</td>\n",
              "      <td>0.000000</td>\n",
              "      <td>0.000000</td>\n",
              "      <td>...</td>\n",
              "      <td>0.000000</td>\n",
              "      <td>0.000000</td>\n",
              "      <td>0.000000</td>\n",
              "      <td>0.000000</td>\n",
              "      <td>0.000000</td>\n",
              "      <td>0.000000</td>\n",
              "      <td>0.000000</td>\n",
              "      <td>0.000000</td>\n",
              "      <td>0.000000</td>\n",
              "      <td>0.000000</td>\n",
              "    </tr>\n",
              "    <tr>\n",
              "      <th>25%</th>\n",
              "      <td>-8.644992e-01</td>\n",
              "      <td>-4.152724e-01</td>\n",
              "      <td>-7.576746e-01</td>\n",
              "      <td>-2.506492e-01</td>\n",
              "      <td>-6.718521e-01</td>\n",
              "      <td>-9.263504e-01</td>\n",
              "      <td>0.000000</td>\n",
              "      <td>0.000000</td>\n",
              "      <td>0.000000</td>\n",
              "      <td>0.000000</td>\n",
              "      <td>...</td>\n",
              "      <td>0.000000</td>\n",
              "      <td>0.000000</td>\n",
              "      <td>0.000000</td>\n",
              "      <td>0.000000</td>\n",
              "      <td>0.000000</td>\n",
              "      <td>0.000000</td>\n",
              "      <td>0.000000</td>\n",
              "      <td>0.000000</td>\n",
              "      <td>0.000000</td>\n",
              "      <td>0.000000</td>\n",
              "    </tr>\n",
              "    <tr>\n",
              "      <th>50%</th>\n",
              "      <td>1.313584e-03</td>\n",
              "      <td>-4.152724e-01</td>\n",
              "      <td>-2.354929e-01</td>\n",
              "      <td>-2.506492e-01</td>\n",
              "      <td>-2.029292e-01</td>\n",
              "      <td>-2.532801e-01</td>\n",
              "      <td>0.000000</td>\n",
              "      <td>0.000000</td>\n",
              "      <td>0.000000</td>\n",
              "      <td>0.000000</td>\n",
              "      <td>...</td>\n",
              "      <td>0.000000</td>\n",
              "      <td>1.000000</td>\n",
              "      <td>0.000000</td>\n",
              "      <td>0.000000</td>\n",
              "      <td>1.000000</td>\n",
              "      <td>0.000000</td>\n",
              "      <td>0.000000</td>\n",
              "      <td>0.000000</td>\n",
              "      <td>0.000000</td>\n",
              "      <td>0.000000</td>\n",
              "    </tr>\n",
              "    <tr>\n",
              "      <th>75%</th>\n",
              "      <td>8.648794e-01</td>\n",
              "      <td>-4.152724e-01</td>\n",
              "      <td>5.477796e-01</td>\n",
              "      <td>5.725520e-01</td>\n",
              "      <td>2.659936e-01</td>\n",
              "      <td>9.432894e-01</td>\n",
              "      <td>0.000000</td>\n",
              "      <td>0.000000</td>\n",
              "      <td>0.000000</td>\n",
              "      <td>0.000000</td>\n",
              "      <td>...</td>\n",
              "      <td>0.000000</td>\n",
              "      <td>1.000000</td>\n",
              "      <td>0.000000</td>\n",
              "      <td>1.000000</td>\n",
              "      <td>1.000000</td>\n",
              "      <td>0.000000</td>\n",
              "      <td>1.000000</td>\n",
              "      <td>1.000000</td>\n",
              "      <td>0.000000</td>\n",
              "      <td>0.000000</td>\n",
              "    </tr>\n",
              "    <tr>\n",
              "      <th>max</th>\n",
              "      <td>1.731212e+00</td>\n",
              "      <td>1.435665e+01</td>\n",
              "      <td>3.289233e+00</td>\n",
              "      <td>1.395753e+00</td>\n",
              "      <td>7.299836e+00</td>\n",
              "      <td>2.663358e+00</td>\n",
              "      <td>1.000000</td>\n",
              "      <td>1.000000</td>\n",
              "      <td>1.000000</td>\n",
              "      <td>1.000000</td>\n",
              "      <td>...</td>\n",
              "      <td>1.000000</td>\n",
              "      <td>1.000000</td>\n",
              "      <td>1.000000</td>\n",
              "      <td>1.000000</td>\n",
              "      <td>1.000000</td>\n",
              "      <td>1.000000</td>\n",
              "      <td>1.000000</td>\n",
              "      <td>1.000000</td>\n",
              "      <td>1.000000</td>\n",
              "      <td>1.000000</td>\n",
              "    </tr>\n",
              "  </tbody>\n",
              "</table>\n",
              "<p>8 rows × 58 columns</p>\n",
              "</div>\n",
              "      <button class=\"colab-df-convert\" onclick=\"convertToInteractive('df-8af3e097-f5d7-45cf-bb7c-facf27cc6c65')\"\n",
              "              title=\"Convert this dataframe to an interactive table.\"\n",
              "              style=\"display:none;\">\n",
              "        \n",
              "  <svg xmlns=\"http://www.w3.org/2000/svg\" height=\"24px\"viewBox=\"0 0 24 24\"\n",
              "       width=\"24px\">\n",
              "    <path d=\"M0 0h24v24H0V0z\" fill=\"none\"/>\n",
              "    <path d=\"M18.56 5.44l.94 2.06.94-2.06 2.06-.94-2.06-.94-.94-2.06-.94 2.06-2.06.94zm-11 1L8.5 8.5l.94-2.06 2.06-.94-2.06-.94L8.5 2.5l-.94 2.06-2.06.94zm10 10l.94 2.06.94-2.06 2.06-.94-2.06-.94-.94-2.06-.94 2.06-2.06.94z\"/><path d=\"M17.41 7.96l-1.37-1.37c-.4-.4-.92-.59-1.43-.59-.52 0-1.04.2-1.43.59L10.3 9.45l-7.72 7.72c-.78.78-.78 2.05 0 2.83L4 21.41c.39.39.9.59 1.41.59.51 0 1.02-.2 1.41-.59l7.78-7.78 2.81-2.81c.8-.78.8-2.07 0-2.86zM5.41 20L4 18.59l7.72-7.72 1.47 1.35L5.41 20z\"/>\n",
              "  </svg>\n",
              "      </button>\n",
              "      \n",
              "  <style>\n",
              "    .colab-df-container {\n",
              "      display:flex;\n",
              "      flex-wrap:wrap;\n",
              "      gap: 12px;\n",
              "    }\n",
              "\n",
              "    .colab-df-convert {\n",
              "      background-color: #E8F0FE;\n",
              "      border: none;\n",
              "      border-radius: 50%;\n",
              "      cursor: pointer;\n",
              "      display: none;\n",
              "      fill: #1967D2;\n",
              "      height: 32px;\n",
              "      padding: 0 0 0 0;\n",
              "      width: 32px;\n",
              "    }\n",
              "\n",
              "    .colab-df-convert:hover {\n",
              "      background-color: #E2EBFA;\n",
              "      box-shadow: 0px 1px 2px rgba(60, 64, 67, 0.3), 0px 1px 3px 1px rgba(60, 64, 67, 0.15);\n",
              "      fill: #174EA6;\n",
              "    }\n",
              "\n",
              "    [theme=dark] .colab-df-convert {\n",
              "      background-color: #3B4455;\n",
              "      fill: #D2E3FC;\n",
              "    }\n",
              "\n",
              "    [theme=dark] .colab-df-convert:hover {\n",
              "      background-color: #434B5C;\n",
              "      box-shadow: 0px 1px 3px 1px rgba(0, 0, 0, 0.15);\n",
              "      filter: drop-shadow(0px 1px 2px rgba(0, 0, 0, 0.3));\n",
              "      fill: #FFFFFF;\n",
              "    }\n",
              "  </style>\n",
              "\n",
              "      <script>\n",
              "        const buttonEl =\n",
              "          document.querySelector('#df-8af3e097-f5d7-45cf-bb7c-facf27cc6c65 button.colab-df-convert');\n",
              "        buttonEl.style.display =\n",
              "          google.colab.kernel.accessAllowed ? 'block' : 'none';\n",
              "\n",
              "        async function convertToInteractive(key) {\n",
              "          const element = document.querySelector('#df-8af3e097-f5d7-45cf-bb7c-facf27cc6c65');\n",
              "          const dataTable =\n",
              "            await google.colab.kernel.invokeFunction('convertToInteractive',\n",
              "                                                     [key], {});\n",
              "          if (!dataTable) return;\n",
              "\n",
              "          const docLinkHtml = 'Like what you see? Visit the ' +\n",
              "            '<a target=\"_blank\" href=https://colab.research.google.com/notebooks/data_table.ipynb>data table notebook</a>'\n",
              "            + ' to learn more about interactive tables.';\n",
              "          element.innerHTML = '';\n",
              "          dataTable['output_type'] = 'display_data';\n",
              "          await google.colab.output.renderOutput(dataTable, element);\n",
              "          const docLink = document.createElement('div');\n",
              "          docLink.innerHTML = docLinkHtml;\n",
              "          element.appendChild(docLink);\n",
              "        }\n",
              "      </script>\n",
              "    </div>\n",
              "  </div>\n",
              "  "
            ]
          },
          "metadata": {},
          "execution_count": 218
        }
      ]
    },
    {
      "cell_type": "markdown",
      "source": [
        "##6.Разобъем данные на обучающую и тестовую выборки"
      ],
      "metadata": {
        "id": "mR-k8jaBDiUa"
      }
    },
    {
      "cell_type": "code",
      "source": [
        "X = data.drop('is_promoted', axis = 1) # выбрасываем столбец 'is_promoted'\n",
        "y = data['is_promoted']\n",
        "feature_names = X.columns"
      ],
      "metadata": {
        "id": "1m1Z_Zs66BKw"
      },
      "execution_count": 219,
      "outputs": []
    },
    {
      "cell_type": "code",
      "source": [
        "from sklearn.model_selection import train_test_split\n",
        "X_train, X_test, y_train, y_test = train_test_split(X, y, test_size = 0.25, random_state = 42)\n",
        "\n",
        "N_train, _ = X_train.shape \n",
        "N_test,  _ = X_test.shape \n",
        "\n",
        "N_train, N_test"
      ],
      "metadata": {
        "colab": {
          "base_uri": "https://localhost:8080/"
        },
        "id": "NtOTfeTw6BAJ",
        "outputId": "c87e799e-5bbc-4cf5-d0e8-11b5d2d505c6"
      },
      "execution_count": 220,
      "outputs": [
        {
          "output_type": "execute_result",
          "data": {
            "text/plain": [
              "(41106, 13702)"
            ]
          },
          "metadata": {},
          "execution_count": 220
        }
      ]
    },
    {
      "cell_type": "markdown",
      "source": [
        "##7.Запустим классификатор ближайших соседей с разным количеством этих соседей и вычислим ошибки"
      ],
      "metadata": {
        "id": "gO0kvos_DzqI"
      }
    },
    {
      "cell_type": "markdown",
      "source": [
        "Запустим код для 10 ближайших соседей:"
      ],
      "metadata": {
        "id": "FJWMhlfcGyPa"
      }
    },
    {
      "cell_type": "code",
      "source": [
        "from sklearn.neighbors import KNeighborsClassifier\n",
        "\n",
        "model = KNeighborsClassifier(n_neighbors=10)\n",
        "model.fit(X_train, y_train)"
      ],
      "metadata": {
        "colab": {
          "base_uri": "https://localhost:8080/"
        },
        "id": "pcMtBhlJ-oLe",
        "outputId": "c1022135-6369-484e-c790-a58035242782"
      },
      "execution_count": 221,
      "outputs": [
        {
          "output_type": "execute_result",
          "data": {
            "text/plain": [
              "KNeighborsClassifier(n_neighbors=10)"
            ]
          },
          "metadata": {},
          "execution_count": 221
        }
      ]
    },
    {
      "cell_type": "code",
      "source": [
        "y_train_predict = model.predict(X_train)\n",
        "y_test_predict  = model.predict(X_test)"
      ],
      "metadata": {
        "id": "KeDMvyhLCLka"
      },
      "execution_count": 222,
      "outputs": []
    },
    {
      "cell_type": "code",
      "source": [
        "y_test_predict = model.predict(X_test)\n",
        "y_train_predict = model.predict(X_train)\n",
        "err_test  = np.mean(y_test  != y_test_predict)\n",
        "err_train  = np.mean(y_train != y_train_predict)"
      ],
      "metadata": {
        "id": "2OGmI2IYDJq1"
      },
      "execution_count": 223,
      "outputs": []
    },
    {
      "cell_type": "code",
      "source": [
        "print(err_train)\n",
        "print(err_test)"
      ],
      "metadata": {
        "colab": {
          "base_uri": "https://localhost:8080/"
        },
        "id": "sqm7eXDwDZvk",
        "outputId": "9ee9dcb4-92af-4aa9-c91a-ac17deec7a1d"
      },
      "execution_count": 224,
      "outputs": [
        {
          "output_type": "stream",
          "name": "stdout",
          "text": [
            "0.08015861431421203\n",
            "0.07889359217632462\n"
          ]
        }
      ]
    },
    {
      "cell_type": "code",
      "source": [
        "from sklearn.metrics import confusion_matrix\n",
        "\n",
        "print(confusion_matrix(y_train, y_train_predict), end=\"\\n\\n\")\n",
        "print(confusion_matrix(y_test, y_test_predict), end=\"\\n\\n\")"
      ],
      "metadata": {
        "colab": {
          "base_uri": "https://localhost:8080/"
        },
        "id": "NMZr9THBDeOo",
        "outputId": "694bb19f-7eb3-4057-e634-cf3b67acb7e0"
      },
      "execution_count": 225,
      "outputs": [
        {
          "output_type": "stream",
          "name": "stdout",
          "text": [
            "[[37558    11]\n",
            " [ 3284   253]]\n",
            "\n",
            "[[12567     4]\n",
            " [ 1077    54]]\n",
            "\n"
          ]
        }
      ]
    },
    {
      "cell_type": "markdown",
      "source": [
        "Попробуем подобрать наилучшее количество ближайших соседей:"
      ],
      "metadata": {
        "id": "V-Q01tLUGf6x"
      }
    },
    {
      "cell_type": "code",
      "source": [
        "from sklearn.model_selection import GridSearchCV\n",
        "nnb = [1, 3, 5, 10, 15, 20, 25, 35, 45, 55]\n",
        "knn = KNeighborsClassifier()\n",
        "grid = GridSearchCV(knn, param_grid = {'n_neighbors': nnb}, cv=10)\n",
        "grid.fit(X_train, y_train)\n",
        "\n",
        "best_cv_err = 1 - grid.best_score_\n",
        "best_n_neighbors = grid.best_estimator_.n_neighbors\n",
        "print(best_cv_err, best_n_neighbors)"
      ],
      "metadata": {
        "colab": {
          "base_uri": "https://localhost:8080/"
        },
        "id": "ihS2nE-6GVKv",
        "outputId": "58f54560-917b-4c90-ef52-ecb7f85a6132"
      },
      "execution_count": 226,
      "outputs": [
        {
          "output_type": "stream",
          "name": "stdout",
          "text": [
            "0.08205612974744037 15\n"
          ]
        }
      ]
    },
    {
      "cell_type": "markdown",
      "source": [
        "Выведем ошибки для лучшего случая:"
      ],
      "metadata": {
        "id": "XND90FRjG-K-"
      }
    },
    {
      "cell_type": "code",
      "source": [
        "knn = KNeighborsClassifier(n_neighbors = best_n_neighbors).fit(X_train, y_train)\n",
        "\n",
        "err_train = np.mean(y_train != knn.predict(X_train))\n",
        "err_test  = np.mean(y_test  != knn.predict(X_test))\n",
        "\n",
        "print(err_train, err_test)"
      ],
      "metadata": {
        "colab": {
          "base_uri": "https://localhost:8080/"
        },
        "id": "nkuUEDj8HHHm",
        "outputId": "1e2d071e-90a1-4996-9a22-b08c9cd9316c"
      },
      "execution_count": 227,
      "outputs": [
        {
          "output_type": "stream",
          "name": "stdout",
          "text": [
            "0.08062083394151705 0.07889359217632462\n"
          ]
        }
      ]
    },
    {
      "cell_type": "markdown",
      "source": [
        "##8.Выводы\n"
      ],
      "metadata": {
        "id": "5J7JcD7kFTiY"
      }
    },
    {
      "cell_type": "markdown",
      "source": [
        "В рамках работы была рассмотрена и успешно решена с помощью метода ближайших соседей задача классификации. Из выбранного набора чисел обозначающих количество соседей минимальную ошибку получаем для числа 15."
      ],
      "metadata": {
        "id": "Mk2rCio-hbXA"
      }
    }
  ]
}